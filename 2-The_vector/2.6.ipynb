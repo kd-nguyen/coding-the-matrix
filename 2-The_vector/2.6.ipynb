{
 "cells": [
  {
   "cell_type": "code",
   "execution_count": 2,
   "metadata": {
    "collapsed": true
   },
   "outputs": [],
   "source": [
    "from plotting import plot\n",
    "\n",
    "def add2(l, v):\n",
    "    return [l[0] + v[0], l[1] + v[1]]\n",
    "\n",
    "def scalar_vector_mult(alpha, v):\n",
    "    return [alpha * v_i for v_i in v]"
   ]
  },
  {
   "cell_type": "code",
   "execution_count": 8,
   "metadata": {},
   "outputs": [],
   "source": [
    "original_line = [scalar_vector_mult(alpha/100, [3, 2]) for alpha in range(101)]\n",
    "shifted_line = [add2(p, [0.5, 1]) for p in original_line]\n",
    "plot(original_line + shifted_line, 10)"
   ]
  },
  {
   "cell_type": "code",
   "execution_count": 14,
   "metadata": {},
   "outputs": [],
   "source": [
    "# 2.6.9\n",
    "def segment(pt1, pt2):\n",
    "    return [add2(scalar_vector_mult(alpha/99, pt1), scalar_vector_mult(1 - alpha/99, pt2)) for alpha in range(-100, 0)]\n",
    "\n",
    "plot(segment([3.5, 3], [0.5, 1]), 5)"
   ]
  },
  {
   "cell_type": "code",
   "execution_count": 19,
   "metadata": {},
   "outputs": [],
   "source": [
    "# 2.7.1\n",
    "class Vec:\n",
    "    def __init__(self, labels, function):\n",
    "        self.D = labels\n",
    "        self.F = function"
   ]
  },
  {
   "cell_type": "code",
   "execution_count": 24,
   "metadata": {},
   "outputs": [
    {
     "data": {
      "text/plain": [
       "{1: 0, 2: 0, 3: 0}"
      ]
     },
     "execution_count": 24,
     "metadata": {},
     "output_type": "execute_result"
    }
   ],
   "source": [
    "def zero_dec(D):\n",
    "    f_D = {element: 0 for element in D}\n",
    "    return Vec(D, f_D)\n",
    "\n",
    "\n",
    "v = zero_dec({1, 2, 3})\n",
    "v.F"
   ]
  },
  {
   "cell_type": "code",
   "execution_count": 26,
   "metadata": {},
   "outputs": [
    {
     "data": {
      "text/plain": [
       "1"
      ]
     },
     "execution_count": 26,
     "metadata": {},
     "output_type": "execute_result"
    }
   ],
   "source": [
    "# 2.7.2\n",
    "def getitem(v, d):\n",
    "    return v.F.get(d, 0)\n",
    "\n",
    "v = Vec({'A', 'B', 'C'}, {'A': 1})\n",
    "getitem(v, 'A')"
   ]
  }
 ],
 "metadata": {
  "kernelspec": {
   "display_name": "Python 3",
   "language": "python",
   "name": "python3"
  },
  "language_info": {
   "codemirror_mode": {
    "name": "ipython",
    "version": 3
   },
   "file_extension": ".py",
   "mimetype": "text/x-python",
   "name": "python",
   "nbconvert_exporter": "python",
   "pygments_lexer": "ipython3",
   "version": "3.6.1"
  }
 },
 "nbformat": 4,
 "nbformat_minor": 2
}
