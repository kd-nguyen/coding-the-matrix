{
 "cells": [
  {
   "cell_type": "code",
   "execution_count": 53,
   "metadata": {
    "collapsed": true
   },
   "outputs": [],
   "source": [
    "from GF2 import one\n",
    "from itertools import combinations, chain\n",
    "from functools import reduce"
   ]
  },
  {
   "cell_type": "code",
   "execution_count": 106,
   "metadata": {},
   "outputs": [
    {
     "name": "stdout",
     "output_type": "stream",
     "text": [
      "[one, one, 0, 0, one, one]: ([one, one, 0, 0, one, one],)\n",
      "[one, 0, one, 0, one, 0]: ([one, 0, one, 0, one, 0],)\n",
      "[one, one, one, 0, one, one]: ([one, one, one, 0, one, one],)\n",
      "[0, 0, one, one, 0, 0]: ([0, 0, one, one, 0, 0],)\n",
      "[0, one, one, 0, 0, one]: ([one, one, 0, 0, one, one], [one, 0, one, 0, one, 0])\n",
      "[0, 0, one, 0, 0, 0]: ([one, one, 0, 0, one, one], [one, one, one, 0, one, one])\n",
      "[one, one, one, one, one, one]: ([one, one, 0, 0, one, one], [0, 0, one, one, 0, 0])\n",
      "[0, one, 0, 0, 0, one]: ([one, 0, one, 0, one, 0], [one, one, one, 0, one, one])\n",
      "[one, 0, 0, one, one, 0]: ([one, 0, one, 0, one, 0], [0, 0, one, one, 0, 0])\n",
      "[one, one, 0, one, one, one]: ([one, one, one, 0, one, one], [0, 0, one, one, 0, 0])\n",
      "[one, 0, 0, 0, one, 0]: ([one, one, 0, 0, one, one], [one, 0, one, 0, one, 0], [one, one, one, 0, one, one])\n",
      "[0, one, 0, one, 0, one]: ([one, one, 0, 0, one, one], [one, 0, one, 0, one, 0], [0, 0, one, one, 0, 0])\n",
      "[0, 0, 0, one, 0, 0]: ([one, one, 0, 0, one, one], [one, one, one, 0, one, one], [0, 0, one, one, 0, 0])\n",
      "[0, one, one, one, 0, one]: ([one, 0, one, 0, one, 0], [one, one, one, 0, one, one], [0, 0, one, one, 0, 0])\n",
      "[one, 0, one, one, one, 0]: ([one, one, 0, 0, one, one], [one, 0, one, 0, one, 0], [one, one, one, 0, one, one], [0, 0, one, one, 0, 0])\n"
     ]
    }
   ],
   "source": [
    "# 2.9.29\n",
    "alpha1 = [one, one, 0, 0, one, one]\n",
    "alpha2 = [one, 0, one, 0, one, 0]\n",
    "alpha3 = [one, one, one, 0, one, one]\n",
    "alpha4 = [0, 0, one, one, 0, 0]\n",
    "\n",
    "\n",
    "def vector_add(v1, v2):\n",
    "    return [sum(pair) for pair in zip(v1, v2)]\n",
    "\n",
    "\n",
    "def generate_combo_sums(alphas, combo_length): \n",
    "    combo_sums = []\n",
    "    for combo in combinations(alphas, combo_length):\n",
    "        combo_list = list(combo)\n",
    "        combo_list.insert(0, [0, 0, 0, 0, 0, 0])\n",
    "        print(f'{reduce(vector_add, combo_list)}: {combo}')\n",
    "\n",
    "        \n",
    "alphas = [alpha1, alpha2, alpha3, alpha4]\n",
    "for n in range(1, len(alphas) + 1):\n",
    "    generate_combo_sums(alphas, n)"
   ]
  },
  {
   "cell_type": "code",
   "execution_count": 112,
   "metadata": {},
   "outputs": [
    {
     "data": {
      "text/plain": [
       "[4]"
      ]
     },
     "execution_count": 112,
     "metadata": {},
     "output_type": "execute_result"
    }
   ],
   "source": [
    "x = [1, 2, 3, 4]\n",
    "x[-1:-2:-1]"
   ]
  },
  {
   "cell_type": "code",
   "execution_count": 10,
   "metadata": {},
   "outputs": [
    {
     "name": "stdout",
     "output_type": "stream",
     "text": [
      "\n",
      "   0  1   2 3\n",
      "-------------\n",
      " -67 18 -19 3\n"
     ]
    }
   ],
   "source": [
    "# 2.11.3\n",
    "from vec import Vec\n",
    "\n",
    "def zero_vec(D):\n",
    "    return Vec(D, {})\n",
    "\n",
    "def triangulat_solve_n(rowlist, b):\n",
    "    D = rowlist[0].D\n",
    "    n = len(D)\n",
    "    x = zero_vec(D)\n",
    "\n",
    "    for i in reversed(range(n)):  # remember, indicies can go backward too\n",
    "        x[i] = (b[i] - row_list[i] * x)/row_list[i][i]\n",
    "    return x\n",
    "\n",
    "D = {0, 1, 2, 3}\n",
    "row_list = [Vec(D, {0: 1, 1: 0.5, 2: -2, 3: 4}),\n",
    "            Vec(D, {0: 0, 1: 3, 2: 3, 3: 2}),\n",
    "            Vec(D, {0: 0, 1: 0, 2: 1, 3: 5}),\n",
    "            Vec(D, {0: 0, 1: 0, 2: 0, 3: 2})]\n",
    "b = [-8, 3, -4, 6]\n",
    "print(triangulat_solve_n(row_list, b))"
   ]
  },
  {
   "cell_type": "code",
   "execution_count": 2,
   "metadata": {},
   "outputs": [
    {
     "data": {
      "text/plain": [
       "4"
      ]
     },
     "execution_count": 2,
     "metadata": {},
     "output_type": "execute_result"
    }
   ],
   "source": [
    "import vec\n",
    "x = vec.Vec({1, 2}, {1: 3, 2: 4})\n",
    "y = vec.Vec({1, 2}, {1: 5, 2: 6})\n",
    "x[2]"
   ]
  },
  {
   "cell_type": "code",
   "execution_count": 152,
   "metadata": {},
   "outputs": [
    {
     "data": {
      "text/plain": [
       "[-67.0, 18.0, -19.0, 3.0]"
      ]
     },
     "execution_count": 152,
     "metadata": {},
     "output_type": "execute_result"
    }
   ],
   "source": [
    "# 2.11.3 reversed vectors instead of indicies\n",
    "def triangulat_solve_n(rowlist, b):\n",
    "    b.reverse()\n",
    "    rowlist = [list(reversed(row)) for row in reversed(rowlist)]\n",
    "    x = [0] * len(rowlist[0])\n",
    "    for i in range(len(x)):\n",
    "        x[i] = (b[i] - dot_product(rowlist[i], x))/rowlist[i][i]\n",
    "    return list(reversed(x))\n",
    "\n",
    "row_list = [[1, 0.5, -2, 4], [0, 3, 3, 2], [0, 0, 1, 5], [0, 0, 0, 2]]\n",
    "b = [-8, 3, -4, 6]\n",
    "triangulat_solve_n(row_list, b)"
   ]
  },
  {
   "cell_type": "code",
   "execution_count": 6,
   "metadata": {},
   "outputs": [],
   "source": [
    "with open('voting_record_dump109.txt') as f:\n",
    "    voting_records = list(f)\n",
    "\n",
    "voting_dict = create_voting_dict(voting_records)"
   ]
  },
  {
   "cell_type": "code",
   "execution_count": 4,
   "metadata": {
    "collapsed": true
   },
   "outputs": [],
   "source": [
    "# 2.12.1\n",
    "def create_voting_dict(strlist):\n",
    "    voting_dict = {}\n",
    "    for senator_str in strlist:\n",
    "        split_str = senator_str.split()\n",
    "        last_name = split_str[0]\n",
    "        votes = list(map(int, split_str[3:]))\n",
    "        voting_dict[last_name] = votes\n",
    "    \n",
    "    return voting_dict"
   ]
  },
  {
   "cell_type": "code",
   "execution_count": 167,
   "metadata": {
    "collapsed": true
   },
   "outputs": [],
   "source": [
    "def list_dot(u, v):\n",
    "    return sum(u_i * v_i for u_i, v_i in zip(u, v))"
   ]
  },
  {
   "cell_type": "code",
   "execution_count": 168,
   "metadata": {},
   "outputs": [
    {
     "data": {
      "text/plain": [
       "-1.0000000000000002"
      ]
     },
     "execution_count": 168,
     "metadata": {},
     "output_type": "execute_result"
    }
   ],
   "source": [
    "import math\n",
    "list_dot([-math.sqrt(2)/2, math.sqrt(2)/2], [math.sqrt(2)/2, -math.sqrt(2)/2])"
   ]
  },
  {
   "cell_type": "code",
   "execution_count": 10,
   "metadata": {},
   "outputs": [
    {
     "data": {
      "text/plain": [
       "11"
      ]
     },
     "execution_count": 10,
     "metadata": {},
     "output_type": "execute_result"
    }
   ],
   "source": [
    "# 2.12.2\n",
    "def policy_compare(sen_a, sen_b, voting_dict):\n",
    "    return list_dot(voting_dict[sen_a], voting_dict[sen_b])\n",
    "\n",
    "policy_compare('Feingold', 'Specter', voting_dict)    "
   ]
  },
  {
   "cell_type": "code",
   "execution_count": 36,
   "metadata": {},
   "outputs": [
    {
     "name": "stdout",
     "output_type": "stream",
     "text": [
      "Feingold: [-1, -1, 1, -1, 1, -1, -1, -1, 1, 1, -1, 1, -1, 1, -1, 1, 1, 1, -1, 1, 1, 1, 1, 1, -1, 1, -1, -1, 1, -1, 1, 1, 1, 1, 1, -1, 1, -1, -1, 1, -1, 1, -1, 1, 1, -1]\n",
      "Specter: [1, 1, 1, 1, 1, 1, 1, 1, 1, 1, 1, 1, 1, 1, -1, 0, 1, 1, 1, 1, 1, 1, 1, 1, -1, 1, -1, 1, 1, 1, 1, 1, 1, 1, 1, 1, 1, 1, 1, 1, 1, 1, 1, 1, 1, 1]\n"
     ]
    }
   ],
   "source": [
    "print('Feingold:', voting_dict['Feingold'])\n",
    "print('Specter:', voting_dict['Specter'])"
   ]
  },
  {
   "cell_type": "code",
   "execution_count": 14,
   "metadata": {},
   "outputs": [
    {
     "data": {
      "text/plain": [
       "'Boxer'"
      ]
     },
     "execution_count": 14,
     "metadata": {},
     "output_type": "execute_result"
    }
   ],
   "source": [
    "# 2.12.3\n",
    "def most_similar(sen, voting_dict):\n",
    "    other_senators = voting_dict.copy()\n",
    "    del other_senators[sen]\n",
    "    return max(other_senators.keys(), \n",
    "               key=lambda sen_b: policy_compare(sen, sen_b, voting_dict))\n",
    "\n",
    "most_similar('Feingold', voting_dict)"
   ]
  },
  {
   "cell_type": "code",
   "execution_count": 17,
   "metadata": {},
   "outputs": [
    {
     "data": {
      "text/plain": [
       "'Inhofe'"
      ]
     },
     "execution_count": 17,
     "metadata": {},
     "output_type": "execute_result"
    }
   ],
   "source": [
    "# 2.12.4\n",
    "def least_similar(sen, voting_dict):\n",
    "    other_senators = voting_dict.copy()\n",
    "    del other_senators[sen]\n",
    "    return min(other_senators.keys(), \n",
    "               key=lambda sen_b: policy_compare(sen, sen_b, voting_dict))\n",
    "\n",
    "least_similar('Feingold', voting_dict)"
   ]
  },
  {
   "cell_type": "code",
   "execution_count": 18,
   "metadata": {},
   "outputs": [
    {
     "data": {
      "text/plain": [
       "'Jeffords'"
      ]
     },
     "execution_count": 18,
     "metadata": {},
     "output_type": "execute_result"
    }
   ],
   "source": [
    "# 2.12.5\n",
    "most_similar('Chafee', voting_dict)"
   ]
  },
  {
   "cell_type": "code",
   "execution_count": 19,
   "metadata": {},
   "outputs": [
    {
     "data": {
      "text/plain": [
       "'Feingold'"
      ]
     },
     "execution_count": 19,
     "metadata": {},
     "output_type": "execute_result"
    }
   ],
   "source": [
    "least_similar('Santorum', voting_dict)"
   ]
  },
  {
   "cell_type": "code",
   "execution_count": 23,
   "metadata": {},
   "outputs": [
    {
     "data": {
      "text/plain": [
       "23"
      ]
     },
     "execution_count": 23,
     "metadata": {},
     "output_type": "execute_result"
    }
   ],
   "source": [
    "# 2.12.6\n",
    "policy_compare('Domenici', 'Bingaman', voting_dict)"
   ]
  },
  {
   "cell_type": "code",
   "execution_count": 33,
   "metadata": {
    "scrolled": true
   },
   "outputs": [],
   "source": [
    "# 2.12.7\n",
    "democrat_senators = set()\n",
    "for senator_str in voting_records:\n",
    "    split_str = senator_str.split()\n",
    "    last_name = split_str[0]\n",
    "    party = split_str[1]\n",
    "    if party == 'D':\n",
    "        democrat_senators.add(last_name)"
   ]
  },
  {
   "cell_type": "code",
   "execution_count": 36,
   "metadata": {},
   "outputs": [
    {
     "data": {
      "text/plain": [
       "{'Akaka',\n",
       " 'Baucus',\n",
       " 'Bayh',\n",
       " 'Biden',\n",
       " 'Bingaman',\n",
       " 'Boxer',\n",
       " 'Byrd',\n",
       " 'Cantwell',\n",
       " 'Carper',\n",
       " 'Clinton',\n",
       " 'Conrad',\n",
       " 'Dayton',\n",
       " 'Dodd',\n",
       " 'Dorgan',\n",
       " 'Durbin',\n",
       " 'Feingold',\n",
       " 'Feinstein',\n",
       " 'Harkin',\n",
       " 'Inouye',\n",
       " 'Johnson',\n",
       " 'Kennedy',\n",
       " 'Kerry',\n",
       " 'Kohl',\n",
       " 'Landrieu',\n",
       " 'Lautenberg',\n",
       " 'Leahy',\n",
       " 'Levin',\n",
       " 'Lieberman',\n",
       " 'Lincoln',\n",
       " 'Mikulski',\n",
       " 'Murray',\n",
       " 'Nelson1',\n",
       " 'Nelson2',\n",
       " 'Obama',\n",
       " 'Pryor',\n",
       " 'Reed',\n",
       " 'Reid',\n",
       " 'Rockefeller',\n",
       " 'Salazar',\n",
       " 'Sarbanes',\n",
       " 'Schumer',\n",
       " 'Stabenow',\n",
       " 'Wyden'}"
      ]
     },
     "execution_count": 36,
     "metadata": {},
     "output_type": "execute_result"
    }
   ],
   "source": [
    "democrat_senators"
   ]
  },
  {
   "cell_type": "code",
   "execution_count": 26,
   "metadata": {
    "collapsed": true
   },
   "outputs": [],
   "source": [
    "import numpy as np"
   ]
  },
  {
   "cell_type": "code",
   "execution_count": 37,
   "metadata": {},
   "outputs": [],
   "source": [
    "def find_average_similarity(sen, sen_set, voting_dict):\n",
    "    similarities = [policy_compare(sen, sen_b, voting_dict) for sen_b in sen_set]\n",
    "    return sum(similarities) / len(similarities)"
   ]
  },
  {
   "cell_type": "code",
   "execution_count": 38,
   "metadata": {},
   "outputs": [
    {
     "data": {
      "text/plain": [
       "'Biden'"
      ]
     },
     "execution_count": 38,
     "metadata": {},
     "output_type": "execute_result"
    }
   ],
   "source": [
    "max(voting_dict.keys(), \n",
    "    key=lambda sen: find_average_similarity(sen, democrat_senators, voting_dict))"
   ]
  },
  {
   "cell_type": "code",
   "execution_count": 42,
   "metadata": {},
   "outputs": [
    {
     "data": {
      "text/plain": [
       "'Biden'"
      ]
     },
     "execution_count": 42,
     "metadata": {},
     "output_type": "execute_result"
    }
   ],
   "source": [
    "# 2.12.8\n",
    "def vector_add(u, v):\n",
    "    assert len(u) == len(v)\n",
    "    return [u_i + v_i for u_i, v_i in zip(u, v)]\n",
    "    \n",
    "    \n",
    "def find_average_record(sen_set, voting_dict):\n",
    "    sum_records = [0] * len(voting_dict[list(sen_set)[0]])\n",
    "    for sen in list(sen_set):\n",
    "        sum_records = vector_add(sum_records, voting_dict[sen])\n",
    "    return [sum_record / len(sen_set) for sum_record in sum_records]\n",
    "\n",
    "average_democrat_record = find_average_record(democrat_senators, voting_dict)\n",
    "max(voting_dict.keys(), \n",
    "    key=lambda sen: list_dot(voting_dict[sen], average_democrat_record))"
   ]
  },
  {
   "cell_type": "code",
   "execution_count": 43,
   "metadata": {},
   "outputs": [
    {
     "data": {
      "text/plain": [
       "[-0.16279069767441862,\n",
       " -0.23255813953488372,\n",
       " 1.0,\n",
       " 0.8372093023255814,\n",
       " 0.9767441860465116,\n",
       " -0.13953488372093023,\n",
       " -0.9534883720930233,\n",
       " 0.813953488372093,\n",
       " 0.9767441860465116,\n",
       " 0.9767441860465116,\n",
       " 0.9069767441860465,\n",
       " 0.7674418604651163,\n",
       " 0.6744186046511628,\n",
       " 0.9767441860465116,\n",
       " -0.5116279069767442,\n",
       " 0.9302325581395349,\n",
       " 0.9534883720930233,\n",
       " 0.9767441860465116,\n",
       " -0.3953488372093023,\n",
       " 0.9767441860465116,\n",
       " 1.0,\n",
       " 1.0,\n",
       " 1.0,\n",
       " 0.9534883720930233,\n",
       " -0.4883720930232558,\n",
       " 1.0,\n",
       " -0.32558139534883723,\n",
       " -0.06976744186046512,\n",
       " 0.9767441860465116,\n",
       " 0.8604651162790697,\n",
       " 0.9767441860465116,\n",
       " 0.9767441860465116,\n",
       " 1.0,\n",
       " 1.0,\n",
       " 0.9767441860465116,\n",
       " -0.3488372093023256,\n",
       " 0.9767441860465116,\n",
       " -0.4883720930232558,\n",
       " 0.23255813953488372,\n",
       " 0.8837209302325582,\n",
       " 0.4418604651162791,\n",
       " 0.9069767441860465,\n",
       " -0.9069767441860465,\n",
       " 1.0,\n",
       " 0.9069767441860465,\n",
       " -0.3023255813953488]"
      ]
     },
     "execution_count": 43,
     "metadata": {},
     "output_type": "execute_result"
    }
   ],
   "source": [
    "average_democrat_record"
   ]
  },
  {
   "cell_type": "code",
   "execution_count": 51,
   "metadata": {
    "collapsed": true
   },
   "outputs": [],
   "source": [
    "# 2.12.9\n",
    "from itertools import combinations"
   ]
  },
  {
   "cell_type": "code",
   "execution_count": 55,
   "metadata": {},
   "outputs": [
    {
     "data": {
      "text/plain": [
       "('Feingold', 'Inhofe')"
      ]
     },
     "execution_count": 55,
     "metadata": {},
     "output_type": "execute_result"
    }
   ],
   "source": [
    "def bitter_rivals(voting_dict):\n",
    "    senator_pairs = list(combinations(voting_dict.keys(), 2))\n",
    "    worst_rivals = senator_pairs[0]\n",
    "    lowest_similarity = policy_compare(*worst_rivals, voting_dict)\n",
    "    \n",
    "    for pair in senator_pairs:\n",
    "        pair_similarity = policy_compare(*pair, voting_dict)\n",
    "        if pair_similarity < lowest_similarity:\n",
    "            lowest_similarity = pair_similarity\n",
    "            worst_rivals = pair\n",
    "            \n",
    "    return worst_rivals\n",
    "\n",
    "bitter_rivals(voting_dict)"
   ]
  },
  {
   "cell_type": "code",
   "execution_count": 53,
   "metadata": {},
   "outputs": [
    {
     "data": {
      "text/plain": [
       "-3"
      ]
     },
     "execution_count": 53,
     "metadata": {},
     "output_type": "execute_result"
    }
   ],
   "source": [
    "policy_compare('Feingold', 'Inhofe', voting_dict)"
   ]
  },
  {
   "cell_type": "code",
   "execution_count": 56,
   "metadata": {},
   "outputs": [
    {
     "data": {
      "text/plain": [
       "('Fox-Epstein', 'Oyakawa')"
      ]
     },
     "execution_count": 56,
     "metadata": {},
     "output_type": "execute_result"
    }
   ],
   "source": [
    "voting_dict_test = {'Klein':[-1,0,1], 'Fox-Epstein':[-1,-1,-1], 'Ravella':[0,0,1], 'Oyakawa':[1,1,1], 'Loery':[1,1,0]}\n",
    "bitter_rivals(voting_dict_test)"
   ]
  },
  {
   "cell_type": "code",
   "execution_count": 57,
   "metadata": {
    "scrolled": true
   },
   "outputs": [
    {
     "data": {
      "text/plain": [
       "{'Alexander',\n",
       " 'Allard',\n",
       " 'Allen',\n",
       " 'Bennett',\n",
       " 'Bond',\n",
       " 'Brownback',\n",
       " 'Bunning',\n",
       " 'Burns',\n",
       " 'Burr',\n",
       " 'Chafee',\n",
       " 'Chambliss',\n",
       " 'Coburn',\n",
       " 'Cochran',\n",
       " 'Coleman',\n",
       " 'Collins',\n",
       " 'Cornyn',\n",
       " 'Craig',\n",
       " 'Crapo',\n",
       " 'DeMint',\n",
       " 'DeWine',\n",
       " 'Dole',\n",
       " 'Domenici',\n",
       " 'Ensign',\n",
       " 'Enzi',\n",
       " 'Frist',\n",
       " 'Graham',\n",
       " 'Grassley',\n",
       " 'Gregg',\n",
       " 'Hagel',\n",
       " 'Hatch',\n",
       " 'Hutchison',\n",
       " 'Inhofe',\n",
       " 'Isakson',\n",
       " 'Kyl',\n",
       " 'Lott',\n",
       " 'Lugar',\n",
       " 'Martinez',\n",
       " 'McCain',\n",
       " 'McConnell',\n",
       " 'Murkowski',\n",
       " 'Roberts',\n",
       " 'Santorum',\n",
       " 'Sessions',\n",
       " 'Shelby',\n",
       " 'Smith',\n",
       " 'Snowe',\n",
       " 'Specter',\n",
       " 'Stevens',\n",
       " 'Sununu',\n",
       " 'Talent',\n",
       " 'Thomas',\n",
       " 'Thune',\n",
       " 'Vitter',\n",
       " 'Voinovich',\n",
       " 'Warner'}"
      ]
     },
     "execution_count": 57,
     "metadata": {},
     "output_type": "execute_result"
    }
   ],
   "source": [
    "# 2.12.10\n",
    "republican_senators = set()\n",
    "for senator_str in voting_records:\n",
    "    split_str = senator_str.split()\n",
    "    last_name = split_str[0]\n",
    "    party = split_str[1]\n",
    "    if party == 'R':\n",
    "        republican_senators.add(last_name)\n",
    "        \n",
    "republican_senators"
   ]
  },
  {
   "cell_type": "code",
   "execution_count": 59,
   "metadata": {},
   "outputs": [
    {
     "data": {
      "text/plain": [
       "[0.9636363636363636,\n",
       " 0.8181818181818182,\n",
       " 1.0,\n",
       " 1.0,\n",
       " 1.0,\n",
       " 1.0,\n",
       " 0.8181818181818182,\n",
       " 0.8181818181818182,\n",
       " 1.0,\n",
       " 0.21818181818181817,\n",
       " 0.6727272727272727,\n",
       " -0.16363636363636364,\n",
       " 0.8,\n",
       " 0.9090909090909091,\n",
       " 0.5636363636363636,\n",
       " 0.8545454545454545,\n",
       " 0.9636363636363636,\n",
       " 0.9272727272727272,\n",
       " 0.7818181818181819,\n",
       " 0.9636363636363636,\n",
       " 1.0,\n",
       " 1.0,\n",
       " 1.0,\n",
       " -0.3090909090909091,\n",
       " 0.5636363636363636,\n",
       " 0.9636363636363636,\n",
       " 0.8545454545454545,\n",
       " 1.0,\n",
       " 0.9636363636363636,\n",
       " 0.8909090909090909,\n",
       " 0.8,\n",
       " 0.9818181818181818,\n",
       " 0.9272727272727272,\n",
       " 0.9818181818181818,\n",
       " 0.9818181818181818,\n",
       " 0.8,\n",
       " 0.9636363636363636,\n",
       " 0.9454545454545454,\n",
       " 0.9636363636363636,\n",
       " 0.9636363636363636,\n",
       " 0.9636363636363636,\n",
       " 0.9272727272727272,\n",
       " 0.8181818181818182,\n",
       " 0.9818181818181818,\n",
       " 1.0,\n",
       " 0.8181818181818182]"
      ]
     },
     "execution_count": 59,
     "metadata": {},
     "output_type": "execute_result"
    }
   ],
   "source": [
    "average_republican_record = find_average_record(republican_senators, voting_dict)"
   ]
  },
  {
   "cell_type": "code",
   "execution_count": 64,
   "metadata": {},
   "outputs": [
    {
     "data": {
      "text/plain": [
       "'Feingold'"
      ]
     },
     "execution_count": 64,
     "metadata": {},
     "output_type": "execute_result"
    }
   ],
   "source": [
    "min(democrat_senators,\n",
    "    key=lambda sen: list_dot(voting_dict[sen], average_republican_record))"
   ]
  },
  {
   "cell_type": "code",
   "execution_count": 65,
   "metadata": {},
   "outputs": [
    {
     "data": {
      "text/plain": [
       "['Chafee',\n",
       " 'Coburn',\n",
       " 'Collins',\n",
       " 'Snowe',\n",
       " 'Sununu',\n",
       " 'McCain',\n",
       " 'Burr',\n",
       " 'Inhofe',\n",
       " 'Gregg',\n",
       " 'Enzi',\n",
       " 'Thomas',\n",
       " 'Graham',\n",
       " 'Ensign',\n",
       " 'Specter',\n",
       " 'Craig',\n",
       " 'Coleman',\n",
       " 'DeMint',\n",
       " 'Vitter',\n",
       " 'Martinez',\n",
       " 'Crapo',\n",
       " 'DeWine',\n",
       " 'Voinovich',\n",
       " 'Lott',\n",
       " 'Dole',\n",
       " 'Cornyn',\n",
       " 'Shelby',\n",
       " 'Thune',\n",
       " 'Kyl',\n",
       " 'Bunning',\n",
       " 'Burns',\n",
       " 'Alexander',\n",
       " 'Hutchison',\n",
       " 'Stevens',\n",
       " 'Bennett',\n",
       " 'Brownback',\n",
       " 'Frist',\n",
       " 'Sessions',\n",
       " 'Domenici',\n",
       " 'Santorum',\n",
       " 'Smith',\n",
       " 'Lugar',\n",
       " 'Murkowski',\n",
       " 'Warner',\n",
       " 'Hatch',\n",
       " 'Hagel',\n",
       " 'Cochran',\n",
       " 'Chambliss',\n",
       " 'Isakson',\n",
       " 'Allard',\n",
       " 'McConnell',\n",
       " 'Talent',\n",
       " 'Allen',\n",
       " 'Grassley',\n",
       " 'Bond',\n",
       " 'Roberts']"
      ]
     },
     "execution_count": 65,
     "metadata": {},
     "output_type": "execute_result"
    }
   ],
   "source": [
    "sorted(republican_senators,\n",
    "    key=lambda sen: list_dot(voting_dict[sen], average_republican_record))"
   ]
  },
  {
   "cell_type": "code",
   "execution_count": 73,
   "metadata": {},
   "outputs": [
    {
     "data": {
      "text/plain": [
       "29"
      ]
     },
     "execution_count": 73,
     "metadata": {},
     "output_type": "execute_result"
    }
   ],
   "source": [
    "average_record = find_average_record(voting_dict.keys(), voting_dict)\n",
    "sorted(voting_dict.keys(), \n",
    "       key=lambda sen: list_dot(voting_dict[sen], average_record)).index('Obama')"
   ]
  },
  {
   "cell_type": "code",
   "execution_count": 76,
   "metadata": {},
   "outputs": [
    {
     "data": {
      "text/plain": [
       "['Akaka',\n",
       " 'Alexander',\n",
       " 'Allard',\n",
       " 'Allen',\n",
       " 'Baucus',\n",
       " 'Bayh',\n",
       " 'Bennett',\n",
       " 'Biden',\n",
       " 'Bingaman',\n",
       " 'Bond',\n",
       " 'Boxer',\n",
       " 'Brownback',\n",
       " 'Burns',\n",
       " 'Burr',\n",
       " 'Byrd',\n",
       " 'Cantwell',\n",
       " 'Carper',\n",
       " 'Chafee',\n",
       " 'Chambliss',\n",
       " 'Clinton',\n",
       " 'Coburn',\n",
       " 'Cochran',\n",
       " 'Coleman',\n",
       " 'Collins',\n",
       " 'Conrad',\n",
       " 'Cornyn',\n",
       " 'Craig',\n",
       " 'Crapo',\n",
       " 'Dayton',\n",
       " 'DeMint',\n",
       " 'DeWine',\n",
       " 'Dodd',\n",
       " 'Dole',\n",
       " 'Domenici',\n",
       " 'Dorgan',\n",
       " 'Durbin',\n",
       " 'Enzi',\n",
       " 'Feinstein',\n",
       " 'Frist',\n",
       " 'Graham',\n",
       " 'Grassley',\n",
       " 'Gregg',\n",
       " 'Hagel',\n",
       " 'Harkin',\n",
       " 'Hatch',\n",
       " 'Hutchison',\n",
       " 'Inouye',\n",
       " 'Isakson',\n",
       " 'Jeffords',\n",
       " 'Johnson',\n",
       " 'Kennedy',\n",
       " 'Kerry',\n",
       " 'Kohl',\n",
       " 'Kyl',\n",
       " 'Landrieu',\n",
       " 'Lautenberg',\n",
       " 'Leahy',\n",
       " 'Levin',\n",
       " 'Lieberman',\n",
       " 'Lincoln',\n",
       " 'Lott',\n",
       " 'Lugar',\n",
       " 'Martinez',\n",
       " 'McCain',\n",
       " 'McConnell',\n",
       " 'Mikulski',\n",
       " 'Murkowski',\n",
       " 'Murray',\n",
       " 'Nelson1',\n",
       " 'Nelson2',\n",
       " 'Obama',\n",
       " 'Pryor',\n",
       " 'Reed',\n",
       " 'Reid',\n",
       " 'Roberts',\n",
       " 'Rockefeller',\n",
       " 'Salazar',\n",
       " 'Santorum',\n",
       " 'Sarbanes',\n",
       " 'Schumer',\n",
       " 'Sessions',\n",
       " 'Shelby',\n",
       " 'Smith',\n",
       " 'Snowe',\n",
       " 'Specter',\n",
       " 'Stabenow',\n",
       " 'Stevens',\n",
       " 'Talent',\n",
       " 'Thomas',\n",
       " 'Thune',\n",
       " 'Vitter',\n",
       " 'Voinovich',\n",
       " 'Warner',\n",
       " 'Wyden',\n",
       " 'Bunning',\n",
       " 'Ensign',\n",
       " 'Inhofe',\n",
       " 'Sununu',\n",
       " 'Feingold']"
      ]
     },
     "execution_count": 76,
     "metadata": {},
     "output_type": "execute_result"
    }
   ],
   "source": [
    "def count_political_opponents(sen, voting_dict):\n",
    "    opponents = 0\n",
    "    for sen_b in voting_dict.keys():\n",
    "        if policy_compare(sen, sen_b, voting_dict) < 0:\n",
    "            opponents += 1\n",
    "    \n",
    "    return opponents\n",
    "\n",
    "sorted(voting_dict.keys(),\n",
    "    key=lambda sen: count_political_opponents(sen, voting_dict))"
   ]
  },
  {
   "cell_type": "code",
   "execution_count": 77,
   "metadata": {},
   "outputs": [
    {
     "name": "stdout",
     "output_type": "stream",
     "text": [
      "[1 0 6]\n",
      "[ 3 -2  4]\n",
      "[ 5 -3  9]\n",
      "[0 1 7]\n"
     ]
    }
   ],
   "source": [
    "# 2.14.2\n",
    "v = np.array([2, -1, 5])\n",
    "u = np.array([-1, 1, 1])\n",
    "print(v + u)\n",
    "print(v - u)\n",
    "print(2 * v - u)\n",
    "print(v + 2 * u)"
   ]
  },
  {
   "cell_type": "code",
   "execution_count": 81,
   "metadata": {},
   "outputs": [
    {
     "name": "stdout",
     "output_type": "stream",
     "text": [
      "[one 0 0]\n",
      "[0 one one]\n"
     ]
    }
   ],
   "source": [
    "# 2.14.3\n",
    "from GF2 import one\n",
    "v = np.array([0, one, one])\n",
    "u = np.array([one, one, one])\n",
    "print(v + u)\n",
    "print(v + u + u)"
   ]
  },
  {
   "cell_type": "code",
   "execution_count": 149,
   "metadata": {},
   "outputs": [
    {
     "data": {
      "text/plain": [
       "('b', 'c', 'd', 'e')"
      ]
     },
     "execution_count": 149,
     "metadata": {},
     "output_type": "execute_result"
    }
   ],
   "source": [
    "# 2.14.4\n",
    "def str2gf2(num_str):\n",
    "    return np.array([one if num == '1' else 0 for num in list(num_str)])\n",
    "\n",
    "vectors = {\n",
    "    'a': '1100000', \n",
    "    'b': '0110000', \n",
    "    'c': '0011000', \n",
    "    'd': '0001100',\n",
    "    'e': '0000110',\n",
    "    'f': '0000011'\n",
    "}\n",
    "\n",
    "def sum_combo(combo, vectors):\n",
    "    combo_gf2 = np.array([str2gf2(vectors[label]) for label in combo])\n",
    "    return combo, np.sum(combo_gf2, axis=0)\n",
    "\n",
    "\n",
    "def find_combo_match(vectors, match):\n",
    "    match_gf2 = str2gf2(match)\n",
    "    for combo_length in range(1, len(vectors) + 1):\n",
    "        for combo in combinations(vectors, combo_length):\n",
    "            combo, combo_sum = sum_combo(combo, vectors)\n",
    "            if all(combo_sum == match_gf2):\n",
    "                return combo\n",
    "    \n",
    "    return 'No match found'\n",
    "\n",
    "            \n",
    "find_combo_match(vectors, '0100010')"
   ]
  },
  {
   "cell_type": "code",
   "execution_count": 108,
   "metadata": {
    "collapsed": true
   },
   "outputs": [],
   "source": [
    "from itertools import chain"
   ]
  },
  {
   "cell_type": "code",
   "execution_count": 141,
   "metadata": {},
   "outputs": [
    {
     "data": {
      "text/plain": [
       "array([0, 0, one, 0, 0, one, 0], dtype=object)"
      ]
     },
     "execution_count": 141,
     "metadata": {},
     "output_type": "execute_result"
    }
   ],
   "source": [
    "def sum_from_letters(letters, vectors):\n",
    "    gf2_vectors = [str2gf2(vectors[letter]) for letter in letters]\n",
    "    return np.array(gf2_vectors).sum(axis=0)\n",
    "    \n",
    "    \n",
    "sum_from_letters(('c', 'd', 'e'), vectors)"
   ]
  },
  {
   "cell_type": "code",
   "execution_count": 150,
   "metadata": {},
   "outputs": [
    {
     "data": {
      "text/plain": [
       "('c', 'd')"
      ]
     },
     "execution_count": 150,
     "metadata": {},
     "output_type": "execute_result"
    }
   ],
   "source": [
    "# 2.14.5\n",
    "vectors7 = {\n",
    "    'a': '1110000', \n",
    "    'b': '0111000', \n",
    "    'c': '0011100', \n",
    "    'd': '0001110',\n",
    "    'e': '0000111',\n",
    "    'f': '0000011'\n",
    "}\n",
    "\n",
    "find_combo_match(vectors7, '0010010')"
   ]
  },
  {
   "cell_type": "code",
   "execution_count": 151,
   "metadata": {},
   "outputs": [
    {
     "data": {
      "text/plain": [
       "'No match found'"
      ]
     },
     "execution_count": 151,
     "metadata": {},
     "output_type": "execute_result"
    }
   ],
   "source": [
    "find_combo_match(vectors7, '0100010')"
   ]
  },
  {
   "cell_type": "code",
   "execution_count": 152,
   "metadata": {},
   "outputs": [
    {
     "data": {
      "text/plain": [
       "array([0, 0, one, 0, 0, one, 0], dtype=object)"
      ]
     },
     "execution_count": 152,
     "metadata": {},
     "output_type": "execute_result"
    }
   ],
   "source": [
    "sum_from_letters(('c', 'd'), vectors7)"
   ]
  },
  {
   "cell_type": "code",
   "execution_count": 165,
   "metadata": {},
   "outputs": [],
   "source": [
    "from plotting import plot\n",
    "def generate_points(v1, v2):\n",
    "    a1 = np.array(v1)\n",
    "    a2 = np.array(v2)\n",
    "    return [list(alpha * a1 + (1 - alpha) * a2) for alpha in np.linspace(0, 1, 100)]\n",
    "\n",
    "plot(generate_points([-1.5, 2], [3,0]), 5)"
   ]
  },
  {
   "cell_type": "code",
   "execution_count": 166,
   "metadata": {},
   "outputs": [],
   "source": [
    "plot(generate_points([2, 1], [2, -2]), 5)"
   ]
  },
  {
   "cell_type": "code",
   "execution_count": 1,
   "metadata": {},
   "outputs": [],
   "source": [
    "# 2.14.10\n",
    "import sys\n",
    "sys.path.append(r'C:\\Projects\\coding-the-matrix\\Solution')\n",
    "from vec import *"
   ]
  },
  {
   "cell_type": "code",
   "execution_count": 2,
   "metadata": {
    "collapsed": true
   },
   "outputs": [],
   "source": [
    "a = Vec({'a','e','i','o','u'}, {'a':0,'e':1,'i':2})\n",
    "b = Vec({'a','e','i','o','u'}, {'o':4,'u':7})\n",
    "c = Vec({'a','e','i','o','u'}, {'a':0,'e':1,'i':2,'o':4,'u':7})"
   ]
  },
  {
   "cell_type": "code",
   "execution_count": 3,
   "metadata": {},
   "outputs": [
    {
     "data": {
      "text/plain": [
       "True"
      ]
     },
     "execution_count": 3,
     "metadata": {},
     "output_type": "execute_result"
    }
   ],
   "source": [
    "equal(a + b, c)"
   ]
  },
  {
   "cell_type": "code",
   "execution_count": 4,
   "metadata": {},
   "outputs": [
    {
     "name": "stdout",
     "output_type": "stream",
     "text": [
      "**********************************************************************\n",
      "File \"C:\\Projects\\coding-the-matrix\\Solution\\vec.py\", line 8, in vec.py\n",
      "Failed example:\n",
      "    v = Vec({'a','b','c', 'd'},{'a':2,'c':1,'d':3})\n",
      "Exception raised:\n",
      "    Traceback (most recent call last):\n",
      "      File \"C:\\Users\\nguye\\Anaconda3\\lib\\doctest.py\", line 1330, in __run\n",
      "        compileflags, 1), test.globs)\n",
      "      File \"<doctest vec.py[0]>\", line 1, in <module>\n",
      "        v = Vec({'a','b','c', 'd'},{'a':2,'c':1,'d':3})\n",
      "    NameError: name 'Vec' is not defined\n",
      "**********************************************************************\n",
      "File \"C:\\Projects\\coding-the-matrix\\Solution\\vec.py\", line 9, in vec.py\n",
      "Failed example:\n",
      "    v['d']\n",
      "Exception raised:\n",
      "    Traceback (most recent call last):\n",
      "      File \"C:\\Users\\nguye\\Anaconda3\\lib\\doctest.py\", line 1330, in __run\n",
      "        compileflags, 1), test.globs)\n",
      "      File \"<doctest vec.py[1]>\", line 1, in <module>\n",
      "        v['d']\n",
      "    NameError: name 'v' is not defined\n",
      "**********************************************************************\n",
      "File \"C:\\Projects\\coding-the-matrix\\Solution\\vec.py\", line 11, in vec.py\n",
      "Failed example:\n",
      "    v['b']\n",
      "Exception raised:\n",
      "    Traceback (most recent call last):\n",
      "      File \"C:\\Users\\nguye\\Anaconda3\\lib\\doctest.py\", line 1330, in __run\n",
      "        compileflags, 1), test.globs)\n",
      "      File \"<doctest vec.py[2]>\", line 1, in <module>\n",
      "        v['b']\n",
      "    NameError: name 'v' is not defined\n",
      "**********************************************************************\n",
      "File \"C:\\Projects\\coding-the-matrix\\Solution\\vec.py\", line 23, in vec.py\n",
      "Failed example:\n",
      "    v = Vec({'a', 'b', 'c'}, {'b':0})\n",
      "Exception raised:\n",
      "    Traceback (most recent call last):\n",
      "      File \"C:\\Users\\nguye\\Anaconda3\\lib\\doctest.py\", line 1330, in __run\n",
      "        compileflags, 1), test.globs)\n",
      "      File \"<doctest vec.py[3]>\", line 1, in <module>\n",
      "        v = Vec({'a', 'b', 'c'}, {'b':0})\n",
      "    NameError: name 'Vec' is not defined\n",
      "**********************************************************************\n",
      "File \"C:\\Projects\\coding-the-matrix\\Solution\\vec.py\", line 24, in vec.py\n",
      "Failed example:\n",
      "    v['b'] = 5\n",
      "Exception raised:\n",
      "    Traceback (most recent call last):\n",
      "      File \"C:\\Users\\nguye\\Anaconda3\\lib\\doctest.py\", line 1330, in __run\n",
      "        compileflags, 1), test.globs)\n",
      "      File \"<doctest vec.py[4]>\", line 1, in <module>\n",
      "        v['b'] = 5\n",
      "    NameError: name 'v' is not defined\n",
      "**********************************************************************\n",
      "File \"C:\\Projects\\coding-the-matrix\\Solution\\vec.py\", line 25, in vec.py\n",
      "Failed example:\n",
      "    v['b']\n",
      "Exception raised:\n",
      "    Traceback (most recent call last):\n",
      "      File \"C:\\Users\\nguye\\Anaconda3\\lib\\doctest.py\", line 1330, in __run\n",
      "        compileflags, 1), test.globs)\n",
      "      File \"<doctest vec.py[5]>\", line 1, in <module>\n",
      "        v['b']\n",
      "    NameError: name 'v' is not defined\n",
      "**********************************************************************\n",
      "File \"C:\\Projects\\coding-the-matrix\\Solution\\vec.py\", line 27, in vec.py\n",
      "Failed example:\n",
      "    v['a'] = 1\n",
      "Exception raised:\n",
      "    Traceback (most recent call last):\n",
      "      File \"C:\\Users\\nguye\\Anaconda3\\lib\\doctest.py\", line 1330, in __run\n",
      "        compileflags, 1), test.globs)\n",
      "      File \"<doctest vec.py[6]>\", line 1, in <module>\n",
      "        v['a'] = 1\n",
      "    NameError: name 'v' is not defined\n",
      "**********************************************************************\n",
      "File \"C:\\Projects\\coding-the-matrix\\Solution\\vec.py\", line 28, in vec.py\n",
      "Failed example:\n",
      "    v['a']\n",
      "Exception raised:\n",
      "    Traceback (most recent call last):\n",
      "      File \"C:\\Users\\nguye\\Anaconda3\\lib\\doctest.py\", line 1330, in __run\n",
      "        compileflags, 1), test.globs)\n",
      "      File \"<doctest vec.py[7]>\", line 1, in <module>\n",
      "        v['a']\n",
      "    NameError: name 'v' is not defined\n",
      "**********************************************************************\n",
      "File \"C:\\Projects\\coding-the-matrix\\Solution\\vec.py\", line 30, in vec.py\n",
      "Failed example:\n",
      "    v['a'] = 0\n",
      "Exception raised:\n",
      "    Traceback (most recent call last):\n",
      "      File \"C:\\Users\\nguye\\Anaconda3\\lib\\doctest.py\", line 1330, in __run\n",
      "        compileflags, 1), test.globs)\n",
      "      File \"<doctest vec.py[8]>\", line 1, in <module>\n",
      "        v['a'] = 0\n",
      "    NameError: name 'v' is not defined\n",
      "**********************************************************************\n",
      "File \"C:\\Projects\\coding-the-matrix\\Solution\\vec.py\", line 31, in vec.py\n",
      "Failed example:\n",
      "    v['a']\n",
      "Exception raised:\n",
      "    Traceback (most recent call last):\n",
      "      File \"C:\\Users\\nguye\\Anaconda3\\lib\\doctest.py\", line 1330, in __run\n",
      "        compileflags, 1), test.globs)\n",
      "      File \"<doctest vec.py[9]>\", line 1, in <module>\n",
      "        v['a']\n",
      "    NameError: name 'v' is not defined\n",
      "**********************************************************************\n",
      "File \"C:\\Projects\\coding-the-matrix\\Solution\\vec.py\", line 45, in vec.py\n",
      "Failed example:\n",
      "    Vec({'a', 'b', 'c'}, {'a':0}) == Vec({'a', 'b', 'c'}, {'b':0})\n",
      "Exception raised:\n",
      "    Traceback (most recent call last):\n",
      "      File \"C:\\Users\\nguye\\Anaconda3\\lib\\doctest.py\", line 1330, in __run\n",
      "        compileflags, 1), test.globs)\n",
      "      File \"<doctest vec.py[10]>\", line 1, in <module>\n",
      "        Vec({'a', 'b', 'c'}, {'a':0}) == Vec({'a', 'b', 'c'}, {'b':0})\n",
      "    NameError: name 'Vec' is not defined\n",
      "**********************************************************************\n",
      "File \"C:\\Projects\\coding-the-matrix\\Solution\\vec.py\", line 47, in vec.py\n",
      "Failed example:\n",
      "    Vec({'a', 'b', 'c'}, {'a': 0}) == Vec({'a', 'b', 'c'}, {})\n",
      "Exception raised:\n",
      "    Traceback (most recent call last):\n",
      "      File \"C:\\Users\\nguye\\Anaconda3\\lib\\doctest.py\", line 1330, in __run\n",
      "        compileflags, 1), test.globs)\n",
      "      File \"<doctest vec.py[11]>\", line 1, in <module>\n",
      "        Vec({'a', 'b', 'c'}, {'a': 0}) == Vec({'a', 'b', 'c'}, {})\n",
      "    NameError: name 'Vec' is not defined\n",
      "**********************************************************************\n",
      "File \"C:\\Projects\\coding-the-matrix\\Solution\\vec.py\", line 49, in vec.py\n",
      "Failed example:\n",
      "    Vec({'a', 'b', 'c'}, {}) == Vec({'a', 'b', 'c'}, {'a': 0})\n",
      "Exception raised:\n",
      "    Traceback (most recent call last):\n",
      "      File \"C:\\Users\\nguye\\Anaconda3\\lib\\doctest.py\", line 1330, in __run\n",
      "        compileflags, 1), test.globs)\n",
      "      File \"<doctest vec.py[12]>\", line 1, in <module>\n",
      "        Vec({'a', 'b', 'c'}, {}) == Vec({'a', 'b', 'c'}, {'a': 0})\n",
      "    NameError: name 'Vec' is not defined\n",
      "**********************************************************************\n",
      "File \"C:\\Projects\\coding-the-matrix\\Solution\\vec.py\", line 55, in vec.py\n",
      "Failed example:\n",
      "    Vec({'x','y','z'},{'y':1,'x':2}) == Vec({'x','y','z'},{'y':1,'z':0})\n",
      "Exception raised:\n",
      "    Traceback (most recent call last):\n",
      "      File \"C:\\Users\\nguye\\Anaconda3\\lib\\doctest.py\", line 1330, in __run\n",
      "        compileflags, 1), test.globs)\n",
      "      File \"<doctest vec.py[13]>\", line 1, in <module>\n",
      "        Vec({'x','y','z'},{'y':1,'x':2}) == Vec({'x','y','z'},{'y':1,'z':0})\n",
      "    NameError: name 'Vec' is not defined\n",
      "**********************************************************************\n",
      "File \"C:\\Projects\\coding-the-matrix\\Solution\\vec.py\", line 57, in vec.py\n",
      "Failed example:\n",
      "    Vec({'a','b','c'}, {'a':0,'c':1}) == Vec({'a','b','c'}, {'a':0,'c':1,'b':4})\n",
      "Exception raised:\n",
      "    Traceback (most recent call last):\n",
      "      File \"C:\\Users\\nguye\\Anaconda3\\lib\\doctest.py\", line 1330, in __run\n",
      "        compileflags, 1), test.globs)\n",
      "      File \"<doctest vec.py[14]>\", line 1, in <module>\n",
      "        Vec({'a','b','c'}, {'a':0,'c':1}) == Vec({'a','b','c'}, {'a':0,'c':1,'b':4})\n",
      "    NameError: name 'Vec' is not defined\n",
      "**********************************************************************\n",
      "File \"C:\\Projects\\coding-the-matrix\\Solution\\vec.py\", line 59, in vec.py\n",
      "Failed example:\n",
      "    Vec({'a','b','c'}, {'a':0,'c':1,'b':4}) == Vec({'a','b','c'}, {'a':0,'c':1})\n",
      "Exception raised:\n",
      "    Traceback (most recent call last):\n",
      "      File \"C:\\Users\\nguye\\Anaconda3\\lib\\doctest.py\", line 1330, in __run\n",
      "        compileflags, 1), test.globs)\n",
      "      File \"<doctest vec.py[15]>\", line 1, in <module>\n",
      "        Vec({'a','b','c'}, {'a':0,'c':1,'b':4}) == Vec({'a','b','c'}, {'a':0,'c':1})\n",
      "    NameError: name 'Vec' is not defined\n",
      "**********************************************************************\n",
      "File \"C:\\Projects\\coding-the-matrix\\Solution\\vec.py\", line 63, in vec.py\n",
      "Failed example:\n",
      "    Vec({'a','b'},{'a':1}) == Vec({'a','b'},{'b':1})\n",
      "Exception raised:\n",
      "    Traceback (most recent call last):\n",
      "      File \"C:\\Users\\nguye\\Anaconda3\\lib\\doctest.py\", line 1330, in __run\n",
      "        compileflags, 1), test.globs)\n",
      "      File \"<doctest vec.py[16]>\", line 1, in <module>\n",
      "        Vec({'a','b'},{'a':1}) == Vec({'a','b'},{'b':1})\n",
      "    NameError: name 'Vec' is not defined\n",
      "**********************************************************************\n",
      "File \"C:\\Projects\\coding-the-matrix\\Solution\\vec.py\", line 67, in vec.py\n",
      "Failed example:\n",
      "    Vec({'a','b'},{'a':1}) == Vec({'a','b'},{'a':2})\n",
      "Exception raised:\n",
      "    Traceback (most recent call last):\n",
      "      File \"C:\\Users\\nguye\\Anaconda3\\lib\\doctest.py\", line 1330, in __run\n",
      "        compileflags, 1), test.globs)\n",
      "      File \"<doctest vec.py[17]>\", line 1, in <module>\n",
      "        Vec({'a','b'},{'a':1}) == Vec({'a','b'},{'a':2})\n",
      "    NameError: name 'Vec' is not defined\n",
      "**********************************************************************\n",
      "File \"C:\\Projects\\coding-the-matrix\\Solution\\vec.py\", line 86, in vec.py\n",
      "Failed example:\n",
      "    a = Vec({'a','e','i','o','u'}, {'a':0,'e':1,'i':2})\n",
      "Exception raised:\n",
      "    Traceback (most recent call last):\n",
      "      File \"C:\\Users\\nguye\\Anaconda3\\lib\\doctest.py\", line 1330, in __run\n",
      "        compileflags, 1), test.globs)\n",
      "      File \"<doctest vec.py[18]>\", line 1, in <module>\n",
      "        a = Vec({'a','e','i','o','u'}, {'a':0,'e':1,'i':2})\n",
      "    NameError: name 'Vec' is not defined\n",
      "**********************************************************************\n",
      "File \"C:\\Projects\\coding-the-matrix\\Solution\\vec.py\", line 87, in vec.py\n",
      "Failed example:\n",
      "    b = Vec({'a','e','i','o','u'}, {'o':4,'u':7})\n",
      "Exception raised:\n",
      "    Traceback (most recent call last):\n",
      "      File \"C:\\Users\\nguye\\Anaconda3\\lib\\doctest.py\", line 1330, in __run\n",
      "        compileflags, 1), test.globs)\n",
      "      File \"<doctest vec.py[19]>\", line 1, in <module>\n",
      "        b = Vec({'a','e','i','o','u'}, {'o':4,'u':7})\n",
      "    NameError: name 'Vec' is not defined\n",
      "**********************************************************************\n",
      "File \"C:\\Projects\\coding-the-matrix\\Solution\\vec.py\", line 88, in vec.py\n",
      "Failed example:\n",
      "    c = Vec({'a','e','i','o','u'}, {'a':0,'e':1,'i':2,'o':4,'u':7})\n",
      "Exception raised:\n",
      "    Traceback (most recent call last):\n",
      "      File \"C:\\Users\\nguye\\Anaconda3\\lib\\doctest.py\", line 1330, in __run\n",
      "        compileflags, 1), test.globs)\n",
      "      File \"<doctest vec.py[20]>\", line 1, in <module>\n",
      "        c = Vec({'a','e','i','o','u'}, {'a':0,'e':1,'i':2,'o':4,'u':7})\n",
      "    NameError: name 'Vec' is not defined\n",
      "**********************************************************************\n",
      "File \"C:\\Projects\\coding-the-matrix\\Solution\\vec.py\", line 89, in vec.py\n",
      "Failed example:\n",
      "    a + b == c\n",
      "Exception raised:\n",
      "    Traceback (most recent call last):\n",
      "      File \"C:\\Users\\nguye\\Anaconda3\\lib\\doctest.py\", line 1330, in __run\n",
      "        compileflags, 1), test.globs)\n",
      "      File \"<doctest vec.py[21]>\", line 1, in <module>\n",
      "        a + b == c\n",
      "    NameError: name 'a' is not defined\n",
      "**********************************************************************\n",
      "File \"C:\\Projects\\coding-the-matrix\\Solution\\vec.py\", line 91, in vec.py\n",
      "Failed example:\n",
      "    a == Vec({'a','e','i','o','u'}, {'a':0,'e':1,'i':2})\n",
      "Exception raised:\n",
      "    Traceback (most recent call last):\n",
      "      File \"C:\\Users\\nguye\\Anaconda3\\lib\\doctest.py\", line 1330, in __run\n",
      "        compileflags, 1), test.globs)\n",
      "      File \"<doctest vec.py[22]>\", line 1, in <module>\n",
      "        a == Vec({'a','e','i','o','u'}, {'a':0,'e':1,'i':2})\n",
      "    NameError: name 'a' is not defined\n",
      "**********************************************************************\n",
      "File \"C:\\Projects\\coding-the-matrix\\Solution\\vec.py\", line 93, in vec.py\n",
      "Failed example:\n",
      "    b == Vec({'a','e','i','o','u'}, {'o':4,'u':7})\n",
      "Exception raised:\n",
      "    Traceback (most recent call last):\n",
      "      File \"C:\\Users\\nguye\\Anaconda3\\lib\\doctest.py\", line 1330, in __run\n",
      "        compileflags, 1), test.globs)\n",
      "      File \"<doctest vec.py[23]>\", line 1, in <module>\n",
      "        b == Vec({'a','e','i','o','u'}, {'o':4,'u':7})\n",
      "    NameError: name 'b' is not defined\n",
      "**********************************************************************\n",
      "File \"C:\\Projects\\coding-the-matrix\\Solution\\vec.py\", line 95, in vec.py\n",
      "Failed example:\n",
      "    d = Vec({'x','y','z'}, {'x':2,'y':1})\n",
      "Exception raised:\n",
      "    Traceback (most recent call last):\n",
      "      File \"C:\\Users\\nguye\\Anaconda3\\lib\\doctest.py\", line 1330, in __run\n",
      "        compileflags, 1), test.globs)\n",
      "      File \"<doctest vec.py[24]>\", line 1, in <module>\n",
      "        d = Vec({'x','y','z'}, {'x':2,'y':1})\n",
      "    NameError: name 'Vec' is not defined\n",
      "**********************************************************************\n",
      "File \"C:\\Projects\\coding-the-matrix\\Solution\\vec.py\", line 96, in vec.py\n",
      "Failed example:\n",
      "    e = Vec({'x','y','z'}, {'z':4,'y':-1})\n",
      "Exception raised:\n",
      "    Traceback (most recent call last):\n",
      "      File \"C:\\Users\\nguye\\Anaconda3\\lib\\doctest.py\", line 1330, in __run\n",
      "        compileflags, 1), test.globs)\n",
      "      File \"<doctest vec.py[25]>\", line 1, in <module>\n",
      "        e = Vec({'x','y','z'}, {'z':4,'y':-1})\n",
      "    NameError: name 'Vec' is not defined\n",
      "**********************************************************************\n",
      "File \"C:\\Projects\\coding-the-matrix\\Solution\\vec.py\", line 97, in vec.py\n",
      "Failed example:\n",
      "    f = Vec({'x','y','z'}, {'x':2,'y':0,'z':4})\n",
      "Exception raised:\n",
      "    Traceback (most recent call last):\n",
      "      File \"C:\\Users\\nguye\\Anaconda3\\lib\\doctest.py\", line 1330, in __run\n",
      "        compileflags, 1), test.globs)\n",
      "      File \"<doctest vec.py[26]>\", line 1, in <module>\n",
      "        f = Vec({'x','y','z'}, {'x':2,'y':0,'z':4})\n",
      "    NameError: name 'Vec' is not defined\n",
      "**********************************************************************\n",
      "File \"C:\\Projects\\coding-the-matrix\\Solution\\vec.py\", line 98, in vec.py\n",
      "Failed example:\n",
      "    d + e == f\n",
      "Exception raised:\n",
      "    Traceback (most recent call last):\n",
      "      File \"C:\\Users\\nguye\\Anaconda3\\lib\\doctest.py\", line 1330, in __run\n",
      "        compileflags, 1), test.globs)\n",
      "      File \"<doctest vec.py[27]>\", line 1, in <module>\n",
      "        d + e == f\n",
      "    NameError: name 'd' is not defined\n",
      "**********************************************************************\n",
      "File \"C:\\Projects\\coding-the-matrix\\Solution\\vec.py\", line 100, in vec.py\n",
      "Failed example:\n",
      "    d == Vec({'x','y','z'}, {'x':2,'y':1})\n",
      "Exception raised:\n",
      "    Traceback (most recent call last):\n",
      "      File \"C:\\Users\\nguye\\Anaconda3\\lib\\doctest.py\", line 1330, in __run\n",
      "        compileflags, 1), test.globs)\n",
      "      File \"<doctest vec.py[28]>\", line 1, in <module>\n",
      "        d == Vec({'x','y','z'}, {'x':2,'y':1})\n",
      "    NameError: name 'd' is not defined\n",
      "**********************************************************************\n",
      "File \"C:\\Projects\\coding-the-matrix\\Solution\\vec.py\", line 102, in vec.py\n",
      "Failed example:\n",
      "    e == Vec({'x','y','z'}, {'z':4,'y':-1})\n",
      "Exception raised:\n",
      "    Traceback (most recent call last):\n",
      "      File \"C:\\Users\\nguye\\Anaconda3\\lib\\doctest.py\", line 1330, in __run\n",
      "        compileflags, 1), test.globs)\n",
      "      File \"<doctest vec.py[29]>\", line 1, in <module>\n",
      "        e == Vec({'x','y','z'}, {'z':4,'y':-1})\n",
      "    NameError: name 'e' is not defined\n",
      "**********************************************************************\n",
      "File \"C:\\Projects\\coding-the-matrix\\Solution\\vec.py\", line 104, in vec.py\n",
      "Failed example:\n",
      "    b + Vec({'a','e','i','o','u'}, {}) == b\n",
      "Exception raised:\n",
      "    Traceback (most recent call last):\n",
      "      File \"C:\\Users\\nguye\\Anaconda3\\lib\\doctest.py\", line 1330, in __run\n",
      "        compileflags, 1), test.globs)\n",
      "      File \"<doctest vec.py[30]>\", line 1, in <module>\n",
      "        b + Vec({'a','e','i','o','u'}, {}) == b\n",
      "    NameError: name 'b' is not defined\n",
      "**********************************************************************\n",
      "File \"C:\\Projects\\coding-the-matrix\\Solution\\vec.py\", line 118, in vec.py\n",
      "Failed example:\n",
      "    u1 = Vec({'a','b'}, {'a':1, 'b':2})\n",
      "Exception raised:\n",
      "    Traceback (most recent call last):\n",
      "      File \"C:\\Users\\nguye\\Anaconda3\\lib\\doctest.py\", line 1330, in __run\n",
      "        compileflags, 1), test.globs)\n",
      "      File \"<doctest vec.py[31]>\", line 1, in <module>\n",
      "        u1 = Vec({'a','b'}, {'a':1, 'b':2})\n",
      "    NameError: name 'Vec' is not defined\n",
      "**********************************************************************\n",
      "File \"C:\\Projects\\coding-the-matrix\\Solution\\vec.py\", line 119, in vec.py\n",
      "Failed example:\n",
      "    u2 = Vec({'a','b'}, {'b':2, 'a':1})\n",
      "Exception raised:\n",
      "    Traceback (most recent call last):\n",
      "      File \"C:\\Users\\nguye\\Anaconda3\\lib\\doctest.py\", line 1330, in __run\n",
      "        compileflags, 1), test.globs)\n",
      "      File \"<doctest vec.py[32]>\", line 1, in <module>\n",
      "        u2 = Vec({'a','b'}, {'b':2, 'a':1})\n",
      "    NameError: name 'Vec' is not defined\n",
      "**********************************************************************\n",
      "File \"C:\\Projects\\coding-the-matrix\\Solution\\vec.py\", line 120, in vec.py\n",
      "Failed example:\n",
      "    u1*u2\n",
      "Exception raised:\n",
      "    Traceback (most recent call last):\n",
      "      File \"C:\\Users\\nguye\\Anaconda3\\lib\\doctest.py\", line 1330, in __run\n",
      "        compileflags, 1), test.globs)\n",
      "      File \"<doctest vec.py[33]>\", line 1, in <module>\n",
      "        u1*u2\n",
      "    NameError: name 'u1' is not defined\n",
      "**********************************************************************\n",
      "File \"C:\\Projects\\coding-the-matrix\\Solution\\vec.py\", line 122, in vec.py\n",
      "Failed example:\n",
      "    u1 == Vec({'a','b'}, {'a':1, 'b':2})\n",
      "Exception raised:\n",
      "    Traceback (most recent call last):\n",
      "      File \"C:\\Users\\nguye\\Anaconda3\\lib\\doctest.py\", line 1330, in __run\n",
      "        compileflags, 1), test.globs)\n",
      "      File \"<doctest vec.py[34]>\", line 1, in <module>\n",
      "        u1 == Vec({'a','b'}, {'a':1, 'b':2})\n",
      "    NameError: name 'u1' is not defined\n",
      "**********************************************************************\n",
      "File \"C:\\Projects\\coding-the-matrix\\Solution\\vec.py\", line 124, in vec.py\n",
      "Failed example:\n",
      "    u2 == Vec({'a','b'}, {'b':2, 'a':1})\n",
      "Exception raised:\n",
      "    Traceback (most recent call last):\n",
      "      File \"C:\\Users\\nguye\\Anaconda3\\lib\\doctest.py\", line 1330, in __run\n",
      "        compileflags, 1), test.globs)\n",
      "      File \"<doctest vec.py[35]>\", line 1, in <module>\n",
      "        u2 == Vec({'a','b'}, {'b':2, 'a':1})\n",
      "    NameError: name 'u2' is not defined\n",
      "**********************************************************************\n",
      "File \"C:\\Projects\\coding-the-matrix\\Solution\\vec.py\", line 126, in vec.py\n",
      "Failed example:\n",
      "    v1 = Vec({'p','q','r','s'}, {'p':2,'s':3,'q':-1,'r':0})\n",
      "Exception raised:\n",
      "    Traceback (most recent call last):\n",
      "      File \"C:\\Users\\nguye\\Anaconda3\\lib\\doctest.py\", line 1330, in __run\n",
      "        compileflags, 1), test.globs)\n",
      "      File \"<doctest vec.py[36]>\", line 1, in <module>\n",
      "        v1 = Vec({'p','q','r','s'}, {'p':2,'s':3,'q':-1,'r':0})\n",
      "    NameError: name 'Vec' is not defined\n",
      "**********************************************************************\n",
      "File \"C:\\Projects\\coding-the-matrix\\Solution\\vec.py\", line 127, in vec.py\n",
      "Failed example:\n",
      "    v2 = Vec({'p','q','r','s'}, {'p':-2,'r':5})\n",
      "Exception raised:\n",
      "    Traceback (most recent call last):\n",
      "      File \"C:\\Users\\nguye\\Anaconda3\\lib\\doctest.py\", line 1330, in __run\n",
      "        compileflags, 1), test.globs)\n",
      "      File \"<doctest vec.py[37]>\", line 1, in <module>\n",
      "        v2 = Vec({'p','q','r','s'}, {'p':-2,'r':5})\n",
      "    NameError: name 'Vec' is not defined\n",
      "**********************************************************************\n",
      "File \"C:\\Projects\\coding-the-matrix\\Solution\\vec.py\", line 128, in vec.py\n",
      "Failed example:\n",
      "    v1*v2\n",
      "Exception raised:\n",
      "    Traceback (most recent call last):\n",
      "      File \"C:\\Users\\nguye\\Anaconda3\\lib\\doctest.py\", line 1330, in __run\n",
      "        compileflags, 1), test.globs)\n",
      "      File \"<doctest vec.py[38]>\", line 1, in <module>\n",
      "        v1*v2\n",
      "    NameError: name 'v1' is not defined\n",
      "**********************************************************************\n",
      "File \"C:\\Projects\\coding-the-matrix\\Solution\\vec.py\", line 130, in vec.py\n",
      "Failed example:\n",
      "    w1 = Vec({'a','b','c'}, {'a':2,'b':3,'c':4})\n",
      "Exception raised:\n",
      "    Traceback (most recent call last):\n",
      "      File \"C:\\Users\\nguye\\Anaconda3\\lib\\doctest.py\", line 1330, in __run\n",
      "        compileflags, 1), test.globs)\n",
      "      File \"<doctest vec.py[39]>\", line 1, in <module>\n",
      "        w1 = Vec({'a','b','c'}, {'a':2,'b':3,'c':4})\n",
      "    NameError: name 'Vec' is not defined\n",
      "**********************************************************************\n",
      "File \"C:\\Projects\\coding-the-matrix\\Solution\\vec.py\", line 131, in vec.py\n",
      "Failed example:\n",
      "    w2 = Vec({'a','b','c'}, {'a':12,'b':8,'c':6})\n",
      "Exception raised:\n",
      "    Traceback (most recent call last):\n",
      "      File \"C:\\Users\\nguye\\Anaconda3\\lib\\doctest.py\", line 1330, in __run\n",
      "        compileflags, 1), test.globs)\n",
      "      File \"<doctest vec.py[40]>\", line 1, in <module>\n",
      "        w2 = Vec({'a','b','c'}, {'a':12,'b':8,'c':6})\n",
      "    NameError: name 'Vec' is not defined\n",
      "**********************************************************************\n",
      "File \"C:\\Projects\\coding-the-matrix\\Solution\\vec.py\", line 132, in vec.py\n",
      "Failed example:\n",
      "    w1*w2\n",
      "Exception raised:\n",
      "    Traceback (most recent call last):\n",
      "      File \"C:\\Users\\nguye\\Anaconda3\\lib\\doctest.py\", line 1330, in __run\n",
      "        compileflags, 1), test.globs)\n",
      "      File \"<doctest vec.py[41]>\", line 1, in <module>\n",
      "        w1*w2\n",
      "    NameError: name 'w1' is not defined\n",
      "**********************************************************************\n",
      "File \"C:\\Projects\\coding-the-matrix\\Solution\\vec.py\", line 137, in vec.py\n",
      "Failed example:\n",
      "    v1 = Vec({1, 2}, {1 : 3, 2 : 6})\n",
      "Exception raised:\n",
      "    Traceback (most recent call last):\n",
      "      File \"C:\\Users\\nguye\\Anaconda3\\lib\\doctest.py\", line 1330, in __run\n",
      "        compileflags, 1), test.globs)\n",
      "      File \"<doctest vec.py[42]>\", line 1, in <module>\n",
      "        v1 = Vec({1, 2}, {1 : 3, 2 : 6})\n",
      "    NameError: name 'Vec' is not defined\n",
      "**********************************************************************\n",
      "File \"C:\\Projects\\coding-the-matrix\\Solution\\vec.py\", line 138, in vec.py\n",
      "Failed example:\n",
      "    v2 = Vec({1, 2}, {1 : 2, 2 : 1})\n",
      "Exception raised:\n",
      "    Traceback (most recent call last):\n",
      "      File \"C:\\Users\\nguye\\Anaconda3\\lib\\doctest.py\", line 1330, in __run\n",
      "        compileflags, 1), test.globs)\n",
      "      File \"<doctest vec.py[43]>\", line 1, in <module>\n",
      "        v2 = Vec({1, 2}, {1 : 2, 2 : 1})\n",
      "    NameError: name 'Vec' is not defined\n",
      "**********************************************************************\n",
      "File \"C:\\Projects\\coding-the-matrix\\Solution\\vec.py\", line 139, in vec.py\n",
      "Failed example:\n",
      "    v1 * v2\n",
      "Exception raised:\n",
      "    Traceback (most recent call last):\n",
      "      File \"C:\\Users\\nguye\\Anaconda3\\lib\\doctest.py\", line 1330, in __run\n",
      "        compileflags, 1), test.globs)\n",
      "      File \"<doctest vec.py[44]>\", line 1, in <module>\n",
      "        v1 * v2\n",
      "    NameError: name 'v1' is not defined\n",
      "**********************************************************************\n",
      "File \"C:\\Projects\\coding-the-matrix\\Solution\\vec.py\", line 152, in vec.py\n",
      "Failed example:\n",
      "    zero = Vec({'x','y','z','w'}, {})\n",
      "Exception raised:\n",
      "    Traceback (most recent call last):\n",
      "      File \"C:\\Users\\nguye\\Anaconda3\\lib\\doctest.py\", line 1330, in __run\n",
      "        compileflags, 1), test.globs)\n",
      "      File \"<doctest vec.py[45]>\", line 1, in <module>\n",
      "        zero = Vec({'x','y','z','w'}, {})\n",
      "    NameError: name 'Vec' is not defined\n",
      "**********************************************************************\n",
      "File \"C:\\Projects\\coding-the-matrix\\Solution\\vec.py\", line 153, in vec.py\n",
      "Failed example:\n",
      "    u = Vec({'x','y','z','w'},{'x':1,'y':2,'z':3,'w':4})\n",
      "Exception raised:\n",
      "    Traceback (most recent call last):\n",
      "      File \"C:\\Users\\nguye\\Anaconda3\\lib\\doctest.py\", line 1330, in __run\n",
      "        compileflags, 1), test.globs)\n",
      "      File \"<doctest vec.py[46]>\", line 1, in <module>\n",
      "        u = Vec({'x','y','z','w'},{'x':1,'y':2,'z':3,'w':4})\n",
      "    NameError: name 'Vec' is not defined\n",
      "**********************************************************************\n",
      "File \"C:\\Projects\\coding-the-matrix\\Solution\\vec.py\", line 154, in vec.py\n",
      "Failed example:\n",
      "    0*u == zero\n",
      "Exception raised:\n",
      "    Traceback (most recent call last):\n",
      "      File \"C:\\Users\\nguye\\Anaconda3\\lib\\doctest.py\", line 1330, in __run\n",
      "        compileflags, 1), test.globs)\n",
      "      File \"<doctest vec.py[47]>\", line 1, in <module>\n",
      "        0*u == zero\n",
      "    NameError: name 'u' is not defined\n",
      "**********************************************************************\n",
      "File \"C:\\Projects\\coding-the-matrix\\Solution\\vec.py\", line 156, in vec.py\n",
      "Failed example:\n",
      "    1*u == u\n",
      "Exception raised:\n",
      "    Traceback (most recent call last):\n",
      "      File \"C:\\Users\\nguye\\Anaconda3\\lib\\doctest.py\", line 1330, in __run\n",
      "        compileflags, 1), test.globs)\n",
      "      File \"<doctest vec.py[48]>\", line 1, in <module>\n",
      "        1*u == u\n",
      "    NameError: name 'u' is not defined\n",
      "**********************************************************************\n",
      "File \"C:\\Projects\\coding-the-matrix\\Solution\\vec.py\", line 158, in vec.py\n",
      "Failed example:\n",
      "    0.5*u == Vec({'x','y','z','w'},{'x':0.5,'y':1,'z':1.5,'w':2})\n",
      "Exception raised:\n",
      "    Traceback (most recent call last):\n",
      "      File \"C:\\Users\\nguye\\Anaconda3\\lib\\doctest.py\", line 1330, in __run\n",
      "        compileflags, 1), test.globs)\n",
      "      File \"<doctest vec.py[49]>\", line 1, in <module>\n",
      "        0.5*u == Vec({'x','y','z','w'},{'x':0.5,'y':1,'z':1.5,'w':2})\n",
      "    NameError: name 'u' is not defined\n",
      "**********************************************************************\n",
      "File \"C:\\Projects\\coding-the-matrix\\Solution\\vec.py\", line 160, in vec.py\n",
      "Failed example:\n",
      "    u == Vec({'x','y','z','w'},{'x':1,'y':2,'z':3,'w':4})\n",
      "Exception raised:\n",
      "    Traceback (most recent call last):\n",
      "      File \"C:\\Users\\nguye\\Anaconda3\\lib\\doctest.py\", line 1330, in __run\n",
      "        compileflags, 1), test.globs)\n",
      "      File \"<doctest vec.py[50]>\", line 1, in <module>\n",
      "        u == Vec({'x','y','z','w'},{'x':1,'y':2,'z':3,'w':4})\n",
      "    NameError: name 'u' is not defined\n",
      "**********************************************************************\n",
      "File \"C:\\Projects\\coding-the-matrix\\Solution\\vec.py\", line 172, in vec.py\n",
      "Failed example:\n",
      "    u = Vec({1,3,5,7},{1:1,3:2,5:3,7:4})\n",
      "Exception raised:\n",
      "    Traceback (most recent call last):\n",
      "      File \"C:\\Users\\nguye\\Anaconda3\\lib\\doctest.py\", line 1330, in __run\n",
      "        compileflags, 1), test.globs)\n",
      "      File \"<doctest vec.py[51]>\", line 1, in <module>\n",
      "        u = Vec({1,3,5,7},{1:1,3:2,5:3,7:4})\n",
      "    NameError: name 'Vec' is not defined\n",
      "**********************************************************************\n",
      "File \"C:\\Projects\\coding-the-matrix\\Solution\\vec.py\", line 173, in vec.py\n",
      "Failed example:\n",
      "    -u\n",
      "Exception raised:\n",
      "    Traceback (most recent call last):\n",
      "      File \"C:\\Users\\nguye\\Anaconda3\\lib\\doctest.py\", line 1330, in __run\n",
      "        compileflags, 1), test.globs)\n",
      "      File \"<doctest vec.py[52]>\", line 1, in <module>\n",
      "        -u\n",
      "    NameError: name 'u' is not defined\n",
      "**********************************************************************\n",
      "File \"C:\\Projects\\coding-the-matrix\\Solution\\vec.py\", line 175, in vec.py\n",
      "Failed example:\n",
      "    u == Vec({1,3,5,7},{1:1,3:2,5:3,7:4})\n",
      "Exception raised:\n",
      "    Traceback (most recent call last):\n",
      "      File \"C:\\Users\\nguye\\Anaconda3\\lib\\doctest.py\", line 1330, in __run\n",
      "        compileflags, 1), test.globs)\n",
      "      File \"<doctest vec.py[53]>\", line 1, in <module>\n",
      "        u == Vec({1,3,5,7},{1:1,3:2,5:3,7:4})\n",
      "    NameError: name 'u' is not defined\n",
      "**********************************************************************\n",
      "File \"C:\\Projects\\coding-the-matrix\\Solution\\vec.py\", line 177, in vec.py\n",
      "Failed example:\n",
      "    -Vec({'a','b','c'}, {'a':1}) == Vec({'a','b','c'}, {'a':-1})\n",
      "Exception raised:\n",
      "    Traceback (most recent call last):\n",
      "      File \"C:\\Users\\nguye\\Anaconda3\\lib\\doctest.py\", line 1330, in __run\n",
      "        compileflags, 1), test.globs)\n",
      "      File \"<doctest vec.py[54]>\", line 1, in <module>\n",
      "        -Vec({'a','b','c'}, {'a':1}) == Vec({'a','b','c'}, {'a':-1})\n",
      "    NameError: name 'Vec' is not defined\n",
      "**********************************************************************\n",
      "1 items had failures:\n",
      "  55 of  55 in vec.py\n",
      "***Test Failed*** 55 failures.\n"
     ]
    },
    {
     "data": {
      "text/plain": [
       "TestResults(failed=55, attempted=55)"
      ]
     },
     "execution_count": 4,
     "metadata": {},
     "output_type": "execute_result"
    }
   ],
   "source": [
    "import doctest\n",
    "doctest.testfile(r'C:\\Projects\\coding-the-matrix\\Solution\\vec.py')"
   ]
  }
 ],
 "metadata": {
  "kernelspec": {
   "display_name": "Python 3",
   "language": "python",
   "name": "python3"
  },
  "language_info": {
   "codemirror_mode": {
    "name": "ipython",
    "version": 3
   },
   "file_extension": ".py",
   "mimetype": "text/x-python",
   "name": "python",
   "nbconvert_exporter": "python",
   "pygments_lexer": "ipython3",
   "version": "3.6.1"
  }
 },
 "nbformat": 4,
 "nbformat_minor": 2
}
