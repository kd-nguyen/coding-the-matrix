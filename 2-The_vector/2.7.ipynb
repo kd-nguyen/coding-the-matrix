{
 "cells": [
  {
   "cell_type": "code",
   "execution_count": 83,
   "metadata": {
    "collapsed": true
   },
   "outputs": [],
   "source": [
    "import random\n",
    "from GF2 import one\n",
    "import numpy as np"
   ]
  },
  {
   "cell_type": "code",
   "execution_count": 2,
   "metadata": {},
   "outputs": [],
   "source": [
    "class Vec:\n",
    "    def __init__(self, labels, function):\n",
    "        self.D = labels\n",
    "        self.f = function\n",
    "        \n",
    "    def __str__(self):\n",
    "        return repr({d: self.f.get(d, 0) for d in self.D})\n",
    "    \n",
    "    def __repr__(self):\n",
    "         return repr({d: self.f.get(d, 0) for d in self.D})\n",
    "\n",
    "def setitem(v, d, val):\n",
    "    v.f[d] = val\n",
    "\n",
    "def getitem(v, d):\n",
    "    return v.f.get(d, 0)\n",
    "\n",
    "def zero_vec(D):\n",
    "    return Vec(D, {})\n",
    "\n",
    "# 2.7.3\n",
    "def scalar_mul(v, alpha):\n",
    "    return Vec(v.D, {d: value * alpha for d, value in v.f.items()})\n",
    "\n",
    "# 2.7.4\n",
    "def add(u, v):\n",
    "    joint_D = u.D | v.D\n",
    "    return Vec(joint_D, {d: getitem(u, d) + getitem(v, d) for d in joint_D})\n",
    "           \n",
    "\n",
    "# 2.7.5\n",
    "def neg(v):\n",
    "    return Vec(v.D, {d: -value for d, value in v.f.items()})\n",
    "\n",
    "def neg2(v):\n",
    "    return scalar_mul(v, -1)"
   ]
  },
  {
   "cell_type": "code",
   "execution_count": 3,
   "metadata": {},
   "outputs": [
    {
     "name": "stdout",
     "output_type": "stream",
     "text": [
      "{'A': 6, 'C': 10, 'B': 2}\n"
     ]
    }
   ],
   "source": [
    "v = Vec({'A', 'B', 'C'}, {'A': 1, 'B': 2})\n",
    "u = Vec(v.D, {'A': 5, 'C': 10})\n",
    "print(add(u, v))    "
   ]
  },
  {
   "cell_type": "code",
   "execution_count": 51,
   "metadata": {},
   "outputs": [
    {
     "name": "stdout",
     "output_type": "stream",
     "text": [
      "{'C': 4, 'B': 6, 'A': 3}\n"
     ]
    }
   ],
   "source": [
    "v = zero_vec({'A', 'B', 'C'})\n",
    "for entry in v.D:\n",
    "    setitem(v, entry, random.randint(0, 10))\n",
    "\n",
    "print(v)"
   ]
  },
  {
   "cell_type": "code",
   "execution_count": 79,
   "metadata": {},
   "outputs": [
    {
     "data": {
      "text/plain": [
       "{(0, 0), (1, 1)}"
      ]
     },
     "execution_count": 79,
     "metadata": {},
     "output_type": "execute_result"
    }
   ],
   "source": [
    "coordinates = {(0, 0), (0, 1), (1, 0), (1, 1)}"
   ]
  },
  {
   "cell_type": "code",
   "execution_count": 82,
   "metadata": {},
   "outputs": [
    {
     "data": {
      "text/plain": [
       "11"
      ]
     },
     "execution_count": 82,
     "metadata": {},
     "output_type": "execute_result"
    }
   ],
   "source": [
    "# 2.9.4\n",
    "def list_dot(u, v):\n",
    "    return sum(u_i * v_i for u_i, v_i in zip(u, v))\n",
    "\n",
    "list_dot([1, 2], [3, 4])"
   ]
  },
  {
   "cell_type": "code",
   "execution_count": 106,
   "metadata": {},
   "outputs": [
    {
     "name": "stdout",
     "output_type": "stream",
     "text": [
      "best shiift: 0, largest dot product: 2\n"
     ]
    }
   ],
   "source": [
    "larger = [1, -1, 1, 1, 1, -1, 1, 1, 1]\n",
    "smaller = [1, -1, 1, 1, -1, 1]\n",
    "\n",
    "def find_best_match(larger, smaller):\n",
    "    largest_dot_product = list_dot(larger[0:len(smaller) + 1], smaller)\n",
    "    best_shift = 0\n",
    "\n",
    "    for i in range(1, len(larger) - len(smaller) + 1):\n",
    "        current_dot_product = list_dot(larger[i:i+len(smaller) + 1], smaller)\n",
    "        if current_dot_product > largest_dot_product:\n",
    "            largest_dot_product = current_dot_product\n",
    "            best_shift = i\n",
    "\n",
    "    print(f'best shiift: {best_shift}, largest dot product: {largest_dot_product}')\n",
    "    \n",
    "find_best_match(larger, smaller)"
   ]
  },
  {
   "cell_type": "code",
   "execution_count": 107,
   "metadata": {},
   "outputs": [
    {
     "name": "stdout",
     "output_type": "stream",
     "text": [
      "best shiift: 3, largest dot product: 32\n"
     ]
    }
   ],
   "source": [
    "# 2.9.14\n",
    "find_best_match([1, 2, 3, 4, 5, 6], [1, 2, 3])"
   ]
  },
  {
   "cell_type": "code",
   "execution_count": 118,
   "metadata": {
    "collapsed": true
   },
   "outputs": [],
   "source": [
    "# 2.9.15\n",
    "def dot_product_list(needle, haystack):\n",
    "    return [list_dot(haystack[i:i + len(needle) + 1], needle)\n",
    "           for i in range(len(haystack) - len(needle) + 1)]"
   ]
  },
  {
   "cell_type": "code",
   "execution_count": 119,
   "metadata": {},
   "outputs": [
    {
     "data": {
      "text/plain": [
       "[2, 2, 0, 0]"
      ]
     },
     "execution_count": 119,
     "metadata": {},
     "output_type": "execute_result"
    }
   ],
   "source": [
    "dot_product_list(smaller, larger)"
   ]
  },
  {
   "cell_type": "code",
   "execution_count": 84,
   "metadata": {},
   "outputs": [
    {
     "data": {
      "text/plain": [
       "array([ 0.08108, -0.00104])"
      ]
     },
     "execution_count": 84,
     "metadata": {},
     "output_type": "execute_result"
    }
   ],
   "source": [
    "x = [[0.2, 0.4], [0.3, 0.1]]\n",
    "y = [0.0158, 0.02422]\n",
    "np.linalg.solve(x, y)"
   ]
  },
  {
   "cell_type": "code",
   "execution_count": 91,
   "metadata": {},
   "outputs": [
    {
     "data": {
      "text/plain": [
       "0.024219999999999998"
      ]
     },
     "execution_count": 91,
     "metadata": {},
     "output_type": "execute_result"
    }
   ],
   "source": [
    "np.sum(Out[84] * np.array([0.3, 0.1]))"
   ]
  }
 ],
 "metadata": {
  "kernelspec": {
   "display_name": "Python 3",
   "language": "python",
   "name": "python3"
  },
  "language_info": {
   "codemirror_mode": {
    "name": "ipython",
    "version": 3
   },
   "file_extension": ".py",
   "mimetype": "text/x-python",
   "name": "python",
   "nbconvert_exporter": "python",
   "pygments_lexer": "ipython3",
   "version": "3.6.1"
  }
 },
 "nbformat": 4,
 "nbformat_minor": 2
}
