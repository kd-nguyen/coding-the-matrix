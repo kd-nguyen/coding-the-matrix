{
 "cells": [
  {
   "cell_type": "code",
   "execution_count": 3,
   "metadata": {
    "collapsed": true
   },
   "outputs": [],
   "source": [
    "import sys\n",
    "sys.path.insert(0, r'C:\\Projects\\coding-the-matrix\\Solution')\n",
    "\n",
    "import numpy as np\n",
    "from vec import *"
   ]
  },
  {
   "cell_type": "code",
   "execution_count": 14,
   "metadata": {
    "collapsed": true
   },
   "outputs": [],
   "source": [
    "def vec_from_list(l):\n",
    "    D = set(range(len(l)))\n",
    "    return Vec(D, dict(zip(D, l)))"
   ]
  },
  {
   "cell_type": "code",
   "execution_count": 15,
   "metadata": {},
   "outputs": [
    {
     "data": {
      "text/plain": [
       "Vec({0, 1, 2},{0: 2, 1: 3, 2: 4})"
      ]
     },
     "execution_count": 15,
     "metadata": {},
     "output_type": "execute_result"
    }
   ],
   "source": [
    "vec_from_list([2, 3, 4])"
   ]
  },
  {
   "cell_type": "code",
   "execution_count": 1,
   "metadata": {
    "collapsed": true
   },
   "outputs": [],
   "source": [
    "# 3.1.7\n",
    "def lin_comb(vlist, clist):\n",
    "    return [c * v for c, v in zip(clist, vlist)]\n",
    "\n",
    "lin_comb([Vec({1, 2}, {1: 3, 2: 4}), Vec({1, 2}, {1: 7, 2: 8})], [5, 6])"
   ]
  },
  {
   "cell_type": "code",
   "execution_count": 22,
   "metadata": {},
   "outputs": [
    {
     "name": "stdout",
     "output_type": "stream",
     "text": [
      "-2.0 -2.0 3.0 -4.0\n",
      "-1.0 -1.0 1.5 -1.0\n",
      "0.0 0.0 0.0 2.0\n",
      "1.0 1.0 -1.5 5.0\n"
     ]
    }
   ],
   "source": [
    "# 3.2.12\n",
    "a = np.array([2, 0, 1])\n",
    "b = np.array([1, 0, 2])\n",
    "c = np.array([2, 2, 2])\n",
    "d = np.array([0, 1, 0])\n",
    "for x in np.arange(-5, 5.1, 0.5):\n",
    "    for y in np.arange(-5, 5.1, 0.5):\n",
    "        for z in np.arange(-5, 5.1, 0.5):\n",
    "            for t in np.arange(-5, 5.1, 0.5):\n",
    "                if np.all(x * a + y * b + z * c + t * d == np.array([0, 2, 0])):\n",
    "                    print(x, y, z, t)"
   ]
  },
  {
   "cell_type": "code",
   "execution_count": 21,
   "metadata": {},
   "outputs": [
    {
     "data": {
      "text/plain": [
       "array([ 0.,  2.,  0.])"
      ]
     },
     "execution_count": 21,
     "metadata": {},
     "output_type": "execute_result"
    }
   ],
   "source": [
    "-a - b - d + c * 3/2"
   ]
  },
  {
   "cell_type": "code",
   "execution_count": 25,
   "metadata": {
    "collapsed": true
   },
   "outputs": [],
   "source": [
    "# 3.2.13\n",
    "def standard(D, one):\n",
    "    return [Vec(D, {k: one}) for k in range(len(D))]"
   ]
  },
  {
   "cell_type": "code",
   "execution_count": 26,
   "metadata": {},
   "outputs": [
    {
     "data": {
      "text/plain": [
       "[Vec({1, 2, 4, 5},{0: 9}),\n",
       " Vec({1, 2, 4, 5},{1: 9}),\n",
       " Vec({1, 2, 4, 5},{2: 9}),\n",
       " Vec({1, 2, 4, 5},{3: 9})]"
      ]
     },
     "execution_count": 26,
     "metadata": {},
     "output_type": "execute_result"
    }
   ],
   "source": [
    "standard({4, 2, 5, 1}, 9)"
   ]
  },
  {
   "cell_type": "code",
   "execution_count": 39,
   "metadata": {},
   "outputs": [
    {
     "name": "stdout",
     "output_type": "stream",
     "text": [
      "-2.0 3.0 5.0\n",
      "-1.5 2.5 4.0\n",
      "-1.0 2.0 3.0\n",
      "-0.5 1.5 2.0\n",
      "0.0 1.0 1.0\n",
      "0.5 0.5 0.0\n",
      "1.0 0.0 -1.0\n",
      "1.5 -0.5 -2.0\n",
      "2.0 -1.0 -3.0\n",
      "2.5 -1.5 -4.0\n",
      "3.0 -2.0 -5.0\n"
     ]
    }
   ],
   "source": [
    "# 3.2.15\n",
    "a = np.array([1, 1])\n",
    "b = np.array([1, -1])\n",
    "c = np.array([0, 1])\n",
    "for x in np.arange(-5, 5.1, 0.5):\n",
    "    for y in np.arange(-5, 5.1, 0.5):\n",
    "        for z in np.arange(-5, 5.1, 0.5):\n",
    "            if all(a * x + b * y + c * z == np.array([1, 0])):\n",
    "                print(x, y, z)"
   ]
  },
  {
   "cell_type": "code",
   "execution_count": 45,
   "metadata": {
    "collapsed": true
   },
   "outputs": [],
   "source": [
    "# 3.2.16\n",
    "e1 = [1, 0, 0]\n",
    "e2 = [0, 1, 0]\n",
    "e3 = [0, 0, 1]\n",
    "a = [1, 1, 1]\n",
    "b = [0.4, 1.3, -2.2]\n",
    "e1, e2, e3, a, b = map(np.array, [e1, e2, e3, a, b])"
   ]
  },
  {
   "cell_type": "code",
   "execution_count": 46,
   "metadata": {},
   "outputs": [
    {
     "data": {
      "text/plain": [
       "array([1, 0, 0])"
      ]
     },
     "execution_count": 46,
     "metadata": {},
     "output_type": "execute_result"
    }
   ],
   "source": [
    "e1"
   ]
  },
  {
   "cell_type": "code",
   "execution_count": 58,
   "metadata": {},
   "outputs": [
    {
     "data": {
      "text/plain": [
       "set()"
      ]
     },
     "execution_count": 58,
     "metadata": {},
     "output_type": "execute_result"
    }
   ],
   "source": [
    "c1 = set()\n",
    "coeff_range = np.arange(-5, 5.1, 0.1)\n",
    "for x in coeff_range:\n",
    "    for y in coeff_range:\n",
    "        for z in coeff_range:\n",
    "            if z != 0:\n",
    "                c1.add(tuple((e1 - x * a - y * b)/z))\n",
    "                \n",
    "c2 = set()\n",
    "for x in coeff_range:\n",
    "    for y in coeff_range:\n",
    "        for z in coeff_range:\n",
    "            if z != 0:\n",
    "                c2.add(tuple((e2 - x * a - y * b)/z))\n",
    "                \n",
    "c3 = set()\n",
    "for x in coeff_range:\n",
    "    for y in coeff_range:\n",
    "        for z in coeff_range:\n",
    "            if z != 0:\n",
    "                c3.add(tuple((e3 - x * a - y * b)/z))\n",
    "                \n",
    "c1 & c2"
   ]
  },
  {
   "cell_type": "code",
   "execution_count": 59,
   "metadata": {},
   "outputs": [
    {
     "data": {
      "text/plain": [
       "array([ 1.4,  2.3, -1.2])"
      ]
     },
     "execution_count": 59,
     "metadata": {},
     "output_type": "execute_result"
    }
   ],
   "source": [
    "a + b"
   ]
  },
  {
   "cell_type": "markdown",
   "metadata": {},
   "source": [
    "# 3.3 Geometry of sets of vector"
   ]
  },
  {
   "cell_type": "code",
   "execution_count": 13,
   "metadata": {},
   "outputs": [
    {
     "name": "stdout",
     "output_type": "stream",
     "text": [
      "a: 0, b: 0\n"
     ]
    }
   ],
   "source": [
    "D = set(range(3))\n",
    "u = Vec(D, dict(zip(D, [1, 0, 1.65])))\n",
    "v = Vec(D, dict(zip(D, [0, 1, 1])))\n",
    "for a in range(-5, 5):\n",
    "    for b in range(-5, 5):\n",
    "        if a * u + b * v == Vec(D, dict(zip(D, [0, 0, 0]))):\n",
    "            print('a: {}, b: {}'.format(a, b))"
   ]
  },
  {
   "cell_type": "code",
   "execution_count": 17,
   "metadata": {},
   "outputs": [
    {
     "data": {
      "text/plain": [
       "[-1.65, -1.0, 1]"
      ]
     },
     "execution_count": 17,
     "metadata": {},
     "output_type": "execute_result"
    }
   ],
   "source": [
    "def cross(a, b):\n",
    "    c = [a[1]*b[2] - a[2]*b[1],\n",
    "         a[2]*b[0] - a[0]*b[2],\n",
    "         a[0]*b[1] - a[1]*b[0]]\n",
    "\n",
    "    return c\n",
    "\n",
    "cross([1, 0, 1.65], [0, 1, 1])"
   ]
  }
 ],
 "metadata": {
  "kernelspec": {
   "display_name": "Python 3",
   "language": "python",
   "name": "python3"
  },
  "language_info": {
   "codemirror_mode": {
    "name": "ipython",
    "version": 3
   },
   "file_extension": ".py",
   "mimetype": "text/x-python",
   "name": "python",
   "nbconvert_exporter": "python",
   "pygments_lexer": "ipython3",
   "version": "3.6.1"
  }
 },
 "nbformat": 4,
 "nbformat_minor": 2
}
