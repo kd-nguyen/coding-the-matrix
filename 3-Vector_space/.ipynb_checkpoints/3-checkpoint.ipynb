{
 "cells": [
  {
   "cell_type": "code",
   "execution_count": 1,
   "metadata": {
    "collapsed": true
   },
   "outputs": [],
   "source": [
    "import sys\n",
    "sys.path.insert(0, r'C:\\Projects\\coding-the-matrix\\Solution')\n",
    "\n",
    "import numpy as np\n",
    "from vec import *\n",
    "from GF2 import *"
   ]
  },
  {
   "cell_type": "code",
   "execution_count": 14,
   "metadata": {
    "collapsed": true
   },
   "outputs": [],
   "source": [
    "def vec_from_list(l):\n",
    "    D = set(range(len(l)))\n",
    "    return Vec(D, dict(zip(D, l)))"
   ]
  },
  {
   "cell_type": "code",
   "execution_count": 15,
   "metadata": {},
   "outputs": [
    {
     "data": {
      "text/plain": [
       "Vec({0, 1, 2},{0: 2, 1: 3, 2: 4})"
      ]
     },
     "execution_count": 15,
     "metadata": {},
     "output_type": "execute_result"
    }
   ],
   "source": [
    "vec_from_list([2, 3, 4])"
   ]
  },
  {
   "cell_type": "code",
   "execution_count": 1,
   "metadata": {
    "collapsed": true
   },
   "outputs": [],
   "source": [
    "# 3.1.7\n",
    "def lin_comb(vlist, clist):\n",
    "    return [c * v for c, v in zip(clist, vlist)]\n",
    "\n",
    "lin_comb([Vec({1, 2}, {1: 3, 2: 4}), Vec({1, 2}, {1: 7, 2: 8})], [5, 6])"
   ]
  },
  {
   "cell_type": "code",
   "execution_count": 22,
   "metadata": {},
   "outputs": [
    {
     "name": "stdout",
     "output_type": "stream",
     "text": [
      "-2.0 -2.0 3.0 -4.0\n",
      "-1.0 -1.0 1.5 -1.0\n",
      "0.0 0.0 0.0 2.0\n",
      "1.0 1.0 -1.5 5.0\n"
     ]
    }
   ],
   "source": [
    "# 3.2.12\n",
    "a = np.array([2, 0, 1])\n",
    "b = np.array([1, 0, 2])\n",
    "c = np.array([2, 2, 2])\n",
    "d = np.array([0, 1, 0])\n",
    "for x in np.arange(-5, 5.1, 0.5):\n",
    "    for y in np.arange(-5, 5.1, 0.5):\n",
    "        for z in np.arange(-5, 5.1, 0.5):\n",
    "            for t in np.arange(-5, 5.1, 0.5):\n",
    "                if np.all(x * a + y * b + z * c + t * d == np.array([0, 2, 0])):\n",
    "                    print(x, y, z, t)"
   ]
  },
  {
   "cell_type": "code",
   "execution_count": 21,
   "metadata": {},
   "outputs": [
    {
     "data": {
      "text/plain": [
       "array([ 0.,  2.,  0.])"
      ]
     },
     "execution_count": 21,
     "metadata": {},
     "output_type": "execute_result"
    }
   ],
   "source": [
    "-a - b - d + c * 3/2"
   ]
  },
  {
   "cell_type": "code",
   "execution_count": 25,
   "metadata": {
    "collapsed": true
   },
   "outputs": [],
   "source": [
    "# 3.2.13\n",
    "def standard(D, one):\n",
    "    return [Vec(D, {k: one}) for k in range(len(D))]"
   ]
  },
  {
   "cell_type": "code",
   "execution_count": 26,
   "metadata": {},
   "outputs": [
    {
     "data": {
      "text/plain": [
       "[Vec({1, 2, 4, 5},{0: 9}),\n",
       " Vec({1, 2, 4, 5},{1: 9}),\n",
       " Vec({1, 2, 4, 5},{2: 9}),\n",
       " Vec({1, 2, 4, 5},{3: 9})]"
      ]
     },
     "execution_count": 26,
     "metadata": {},
     "output_type": "execute_result"
    }
   ],
   "source": [
    "standard({4, 2, 5, 1}, 9)"
   ]
  },
  {
   "cell_type": "code",
   "execution_count": 39,
   "metadata": {},
   "outputs": [
    {
     "name": "stdout",
     "output_type": "stream",
     "text": [
      "-2.0 3.0 5.0\n",
      "-1.5 2.5 4.0\n",
      "-1.0 2.0 3.0\n",
      "-0.5 1.5 2.0\n",
      "0.0 1.0 1.0\n",
      "0.5 0.5 0.0\n",
      "1.0 0.0 -1.0\n",
      "1.5 -0.5 -2.0\n",
      "2.0 -1.0 -3.0\n",
      "2.5 -1.5 -4.0\n",
      "3.0 -2.0 -5.0\n"
     ]
    }
   ],
   "source": [
    "# 3.2.15\n",
    "a = np.array([1, 1])\n",
    "b = np.array([1, -1])\n",
    "c = np.array([0, 1])\n",
    "for x in np.arange(-5, 5.1, 0.5):\n",
    "    for y in np.arange(-5, 5.1, 0.5):\n",
    "        for z in np.arange(-5, 5.1, 0.5):\n",
    "            if all(a * x + b * y + c * z == np.array([1, 0])):\n",
    "                print(x, y, z)"
   ]
  },
  {
   "cell_type": "code",
   "execution_count": 45,
   "metadata": {
    "collapsed": true
   },
   "outputs": [],
   "source": [
    "# 3.2.16\n",
    "e1 = [1, 0, 0]\n",
    "e2 = [0, 1, 0]\n",
    "e3 = [0, 0, 1]\n",
    "a = [1, 1, 1]\n",
    "b = [0.4, 1.3, -2.2]\n",
    "e1, e2, e3, a, b = map(np.array, [e1, e2, e3, a, b])"
   ]
  },
  {
   "cell_type": "code",
   "execution_count": 46,
   "metadata": {},
   "outputs": [
    {
     "data": {
      "text/plain": [
       "array([1, 0, 0])"
      ]
     },
     "execution_count": 46,
     "metadata": {},
     "output_type": "execute_result"
    }
   ],
   "source": [
    "e1"
   ]
  },
  {
   "cell_type": "code",
   "execution_count": 58,
   "metadata": {},
   "outputs": [
    {
     "data": {
      "text/plain": [
       "set()"
      ]
     },
     "execution_count": 58,
     "metadata": {},
     "output_type": "execute_result"
    }
   ],
   "source": [
    "c1 = set()\n",
    "coeff_range = np.arange(-5, 5.1, 0.1)\n",
    "for x in coeff_range:\n",
    "    for y in coeff_range:\n",
    "        for z in coeff_range:\n",
    "            if z != 0:\n",
    "                c1.add(tuple((e1 - x * a - y * b)/z))\n",
    "                \n",
    "c2 = set()\n",
    "for x in coeff_range:\n",
    "    for y in coeff_range:\n",
    "        for z in coeff_range:\n",
    "            if z != 0:\n",
    "                c2.add(tuple((e2 - x * a - y * b)/z))\n",
    "                \n",
    "c3 = set()\n",
    "for x in coeff_range:\n",
    "    for y in coeff_range:\n",
    "        for z in coeff_range:\n",
    "            if z != 0:\n",
    "                c3.add(tuple((e3 - x * a - y * b)/z))\n",
    "                \n",
    "c1 & c2"
   ]
  },
  {
   "cell_type": "code",
   "execution_count": 59,
   "metadata": {},
   "outputs": [
    {
     "data": {
      "text/plain": [
       "array([ 1.4,  2.3, -1.2])"
      ]
     },
     "execution_count": 59,
     "metadata": {},
     "output_type": "execute_result"
    }
   ],
   "source": [
    "a + b"
   ]
  },
  {
   "cell_type": "markdown",
   "metadata": {},
   "source": [
    "# 3.3 Geometry of sets of vector"
   ]
  },
  {
   "cell_type": "code",
   "execution_count": 13,
   "metadata": {},
   "outputs": [
    {
     "name": "stdout",
     "output_type": "stream",
     "text": [
      "a: 0, b: 0\n"
     ]
    }
   ],
   "source": [
    "D = set(range(3))\n",
    "u = Vec(D, dict(zip(D, [1, 0, 1.65])))\n",
    "v = Vec(D, dict(zip(D, [0, 1, 1])))\n",
    "for a in range(-5, 5):\n",
    "    for b in range(-5, 5):\n",
    "        if a * u + b * v == Vec(D, dict(zip(D, [0, 0, 0]))):\n",
    "            print('a: {}, b: {}'.format(a, b))"
   ]
  },
  {
   "cell_type": "code",
   "execution_count": 17,
   "metadata": {},
   "outputs": [
    {
     "data": {
      "text/plain": [
       "[-1.65, -1.0, 1]"
      ]
     },
     "execution_count": 17,
     "metadata": {},
     "output_type": "execute_result"
    }
   ],
   "source": [
    "def cross(a, b):\n",
    "    c = [a[1]*b[2] - a[2]*b[1],\n",
    "         a[2]*b[0] - a[0]*b[2],\n",
    "         a[0]*b[1] - a[1]*b[0]]\n",
    "\n",
    "    return c\n",
    "\n",
    "cross([1, 0, 1.65], [0, 1, 1])"
   ]
  },
  {
   "cell_type": "markdown",
   "metadata": {},
   "source": [
    "# Problems"
   ]
  },
  {
   "cell_type": "code",
   "execution_count": 4,
   "metadata": {
    "collapsed": true
   },
   "outputs": [],
   "source": [
    "# 3.8.1a\n",
    "def vec_select(veclist, k):\n",
    "    return [v for v in veclist if v[k] == 0]"
   ]
  },
  {
   "cell_type": "code",
   "execution_count": 5,
   "metadata": {},
   "outputs": [
    {
     "data": {
      "text/plain": [
       "[Vec({'a', 'b', 'c'},{'b': 1}), Vec({'a', 'b', 'c'},{'b': 2})]"
      ]
     },
     "execution_count": 5,
     "metadata": {},
     "output_type": "execute_result"
    }
   ],
   "source": [
    "D = {'a','b','c'}\n",
    "v1 = Vec(D, {'a': 1})\n",
    "v2 = Vec(D, {'a': 0, 'b': 1})\n",
    "v3 = Vec(D, {'b': 2})\n",
    "v4 = Vec(D, {'a': 10, 'b': 10})\n",
    "vec_select([v1, v2, v3, v4], 'a')"
   ]
  },
  {
   "cell_type": "code",
   "execution_count": 3,
   "metadata": {
    "collapsed": true
   },
   "outputs": [],
   "source": [
    "# 3.8.1b\n",
    "def vec_sum(veclist, D):\n",
    "    '''\n",
    "    >>> D = {'a','b','c'}\n",
    "    >>> v1 = Vec(D, {'a': 1})\n",
    "    >>> v2 = Vec(D, {'a': 0, 'b': 1})\n",
    "    >>> v3 = Vec(D, {        'b': 2})\n",
    "    >>> v4 = Vec(D, {'a': 10, 'b': 10})\n",
    "    >>> vec_sum([v1, v2, v3, v4], D) == Vec(D, {'b': 13, 'a': 11})\n",
    "    True\n",
    "    '''\n",
    "    sum_result = Vec(D, {})\n",
    "    for vec in veclist:\n",
    "        sum_result += vec\n",
    "    return sum_result"
   ]
  },
  {
   "cell_type": "code",
   "execution_count": 4,
   "metadata": {},
   "outputs": [
    {
     "data": {
      "text/plain": [
       "Vec({'c', 'a', 'b'},{'a': 11, 'b': 13})"
      ]
     },
     "execution_count": 4,
     "metadata": {},
     "output_type": "execute_result"
    }
   ],
   "source": [
    "D = {'a','b','c'}\n",
    "v1 = Vec(D, {'a': 1})\n",
    "v2 = Vec(D, {'a': 0, 'b': 1})\n",
    "v3 = Vec(D, {        'b': 2})\n",
    "v4 = Vec(D, {'a': 10, 'b': 10})\n",
    "vec_sum([v1, v2, v3, v4], D)"
   ]
  },
  {
   "cell_type": "code",
   "execution_count": 95,
   "metadata": {},
   "outputs": [
    {
     "ename": "TypeError",
     "evalue": "reload() argument must be module",
     "output_type": "error",
     "traceback": [
      "\u001b[1;31m---------------------------------------------------------------------------\u001b[0m",
      "\u001b[1;31mTypeError\u001b[0m                                 Traceback (most recent call last)",
      "\u001b[1;32m<ipython-input-95-f9540d9ee396>\u001b[0m in \u001b[0;36m<module>\u001b[1;34m()\u001b[0m\n\u001b[0;32m      1\u001b[0m \u001b[1;32mimport\u001b[0m \u001b[0mimportlib\u001b[0m\u001b[1;33m\u001b[0m\u001b[0m\n\u001b[1;32m----> 2\u001b[1;33m \u001b[0mimportlib\u001b[0m\u001b[1;33m.\u001b[0m\u001b[0mreload\u001b[0m\u001b[1;33m(\u001b[0m\u001b[0mVec\u001b[0m\u001b[1;33m)\u001b[0m\u001b[1;33m\u001b[0m\u001b[0m\n\u001b[0m\u001b[0;32m      3\u001b[0m \u001b[0msum\u001b[0m\u001b[1;33m(\u001b[0m\u001b[1;33m[\u001b[0m\u001b[0mv1\u001b[0m\u001b[1;33m,\u001b[0m \u001b[0mv2\u001b[0m\u001b[1;33m,\u001b[0m \u001b[0mv3\u001b[0m\u001b[1;33m,\u001b[0m \u001b[0mv4\u001b[0m\u001b[1;33m]\u001b[0m\u001b[1;33m)\u001b[0m\u001b[1;33m\u001b[0m\u001b[0m\n",
      "\u001b[1;32m~\\Anaconda3\\lib\\importlib\\__init__.py\u001b[0m in \u001b[0;36mreload\u001b[1;34m(module)\u001b[0m\n\u001b[0;32m    137\u001b[0m     \"\"\"\n\u001b[0;32m    138\u001b[0m     \u001b[1;32mif\u001b[0m \u001b[1;32mnot\u001b[0m \u001b[0mmodule\u001b[0m \u001b[1;32mor\u001b[0m \u001b[1;32mnot\u001b[0m \u001b[0misinstance\u001b[0m\u001b[1;33m(\u001b[0m\u001b[0mmodule\u001b[0m\u001b[1;33m,\u001b[0m \u001b[0mtypes\u001b[0m\u001b[1;33m.\u001b[0m\u001b[0mModuleType\u001b[0m\u001b[1;33m)\u001b[0m\u001b[1;33m:\u001b[0m\u001b[1;33m\u001b[0m\u001b[0m\n\u001b[1;32m--> 139\u001b[1;33m         \u001b[1;32mraise\u001b[0m \u001b[0mTypeError\u001b[0m\u001b[1;33m(\u001b[0m\u001b[1;34m\"reload() argument must be module\"\u001b[0m\u001b[1;33m)\u001b[0m\u001b[1;33m\u001b[0m\u001b[0m\n\u001b[0m\u001b[0;32m    140\u001b[0m     \u001b[1;32mtry\u001b[0m\u001b[1;33m:\u001b[0m\u001b[1;33m\u001b[0m\u001b[0m\n\u001b[0;32m    141\u001b[0m         \u001b[0mname\u001b[0m \u001b[1;33m=\u001b[0m \u001b[0mmodule\u001b[0m\u001b[1;33m.\u001b[0m\u001b[0m__spec__\u001b[0m\u001b[1;33m.\u001b[0m\u001b[0mname\u001b[0m\u001b[1;33m\u001b[0m\u001b[0m\n",
      "\u001b[1;31mTypeError\u001b[0m: reload() argument must be module"
     ]
    }
   ],
   "source": []
  },
  {
   "cell_type": "code",
   "execution_count": 2,
   "metadata": {
    "collapsed": true
   },
   "outputs": [],
   "source": [
    "# 3.8.1c\n",
    "def vec_select_sum(veclist, k, D):\n",
    "    return vec_sum(vec_select(veclist, k), D)"
   ]
  },
  {
   "cell_type": "code",
   "execution_count": 7,
   "metadata": {},
   "outputs": [
    {
     "data": {
      "text/plain": [
       "Vec({'a', 'b', 'c'},{'b': 3})"
      ]
     },
     "execution_count": 7,
     "metadata": {},
     "output_type": "execute_result"
    }
   ],
   "source": [
    "D = {'a','b','c'}\n",
    "v1 = Vec(D, {'a': 1})\n",
    "v2 = Vec(D, {'a': 0, 'b': 1})\n",
    "v3 = Vec(D, {'b': 2})\n",
    "v4 = Vec(D, {'a': 10, 'b': 10})\n",
    "vec_select_sum([v1, v2, v3, v4], 'a', D)"
   ]
  },
  {
   "cell_type": "code",
   "execution_count": 13,
   "metadata": {},
   "outputs": [],
   "source": [
    "# 3.8.2\n",
    "def scale_vecs(vecdict):\n",
    "    return [(1/k) * v for k, v in vecdict.items()]"
   ]
  },
  {
   "cell_type": "code",
   "execution_count": 14,
   "metadata": {},
   "outputs": [],
   "source": [
    "v1 = Vec({1,2,4}, {2: 9})\n",
    "v2 = Vec({1,2,4}, {1: 1, 2: 2, 4: 8})\n",
    "result = scale_vecs({3: v1, 5: v2})"
   ]
  },
  {
   "cell_type": "code",
   "execution_count": 15,
   "metadata": {},
   "outputs": [
    {
     "data": {
      "text/plain": [
       "[Vec({1, 2, 4},{2: 3.0}), Vec({1, 2, 4},{1: 0.2, 2: 0.4, 4: 1.6})]"
      ]
     },
     "execution_count": 15,
     "metadata": {},
     "output_type": "execute_result"
    }
   ],
   "source": [
    "result"
   ]
  },
  {
   "cell_type": "code",
   "execution_count": 88,
   "metadata": {
    "collapsed": true
   },
   "outputs": [],
   "source": [
    "# 3.8.3\n",
    "from itertools import product    \n",
    "\n",
    "def linear_combo(vecs, coeffs):\n",
    "    return sum(coeff * vec for vec, coeff in zip(vecs, coeffs))\n",
    "\n",
    "def GF2_span(D, L):\n",
    "    return [linear_combo(L, coeff_combo) \n",
    "            for coeff_combo in product([one, 0], repeat=len(L))]"
   ]
  },
  {
   "cell_type": "code",
   "execution_count": 87,
   "metadata": {},
   "outputs": [
    {
     "data": {
      "text/plain": [
       "[Vec({'a', 'b', 'c'},{'a': one}),\n",
       " Vec({'a', 'b', 'c'},{'a': one, 'c': one}),\n",
       " Vec({'a', 'b', 'c'},{'c': one}),\n",
       " Vec({'a', 'b', 'c'},{})]"
      ]
     },
     "execution_count": 87,
     "metadata": {},
     "output_type": "execute_result"
    }
   ],
   "source": [
    "D = {'a', 'b', 'c'}\n",
    "result = GF2_span(D, [Vec(D, {'a': one, 'c': one}), Vec(D, {'c': one})])\n",
    "result"
   ]
  },
  {
   "cell_type": "code",
   "execution_count": 90,
   "metadata": {},
   "outputs": [
    {
     "data": {
      "text/plain": [
       "[one, 0]"
      ]
     },
     "execution_count": 90,
     "metadata": {},
     "output_type": "execute_result"
    }
   ],
   "source": [
    "[m * 3 for m in [one, 0]]"
   ]
  }
 ],
 "metadata": {
  "kernelspec": {
   "display_name": "Python 3",
   "language": "python",
   "name": "python3"
  },
  "language_info": {
   "codemirror_mode": {
    "name": "ipython",
    "version": 3
   },
   "file_extension": ".py",
   "mimetype": "text/x-python",
   "name": "python",
   "nbconvert_exporter": "python",
   "pygments_lexer": "ipython3",
   "version": "3.6.1"
  }
 },
 "nbformat": 4,
 "nbformat_minor": 2
}
