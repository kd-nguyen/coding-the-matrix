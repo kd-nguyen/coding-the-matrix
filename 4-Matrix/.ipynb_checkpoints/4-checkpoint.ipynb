{
 "cells": [
  {
   "cell_type": "code",
   "execution_count": 1,
   "metadata": {
    "collapsed": true
   },
   "outputs": [],
   "source": [
    "import sys\n",
    "sys.path.insert(0, r'C:\\Projects\\coding-the-matrix\\Data')\n",
    "\n",
    "import numpy as np\n",
    "from vec import *\n",
    "from GF2 import *\n",
    "from mat import *\n",
    "from matutil import *"
   ]
  },
  {
   "cell_type": "code",
   "execution_count": 2,
   "metadata": {
    "collapsed": true
   },
   "outputs": [],
   "source": [
    "from mat import Mat"
   ]
  },
  {
   "cell_type": "code",
   "execution_count": 3,
   "metadata": {},
   "outputs": [
    {
     "data": {
      "text/plain": [
       "[[0, 0, 0, 0], [0, 0, 0, 0], [0, 0, 0, 0]]"
      ]
     },
     "execution_count": 3,
     "metadata": {},
     "output_type": "execute_result"
    }
   ],
   "source": [
    "# 4.1.1\n",
    "[[0 for j in range(4)] for i in range(3)]"
   ]
  },
  {
   "cell_type": "code",
   "execution_count": 4,
   "metadata": {},
   "outputs": [
    {
     "data": {
      "text/plain": [
       "[[0, 1, 2], [-1, 0, 1], [-2, -1, 0], [-3, -2, -1]]"
      ]
     },
     "execution_count": 4,
     "metadata": {},
     "output_type": "execute_result"
    }
   ],
   "source": [
    "# 4.1.2\n",
    "[[i - j for i in range(3)] for j in range(4)]"
   ]
  },
  {
   "cell_type": "code",
   "execution_count": 5,
   "metadata": {},
   "outputs": [
    {
     "data": {
      "text/plain": [
       "Vec({'a', 'b'},{'a': 3, 'b': 30})"
      ]
     },
     "execution_count": 5,
     "metadata": {},
     "output_type": "execute_result"
    }
   ],
   "source": [
    "# 4.1.4\n",
    "Vec({'a', 'b'}, {'a': 3, 'b': 30})"
   ]
  },
  {
   "cell_type": "code",
   "execution_count": 6,
   "metadata": {},
   "outputs": [
    {
     "data": {
      "text/plain": [
       "{'#': Vec({'a', 'b'},{'a': 2, 'b': 20}),\n",
       " '?': Vec({'a', 'b'},{'a': 3, 'b': 30}),\n",
       " '@': Vec({'a', 'b'},{'a': 1, 'b': 10})}"
      ]
     },
     "execution_count": 6,
     "metadata": {},
     "output_type": "execute_result"
    }
   ],
   "source": [
    "# 4.1.5\n",
    "m = {\n",
    "    '@': Vec({'a', 'b'}, {'a': 1, 'b': 10}),\n",
    "    '#': Vec({'a', 'b'}, {'a': 2, 'b': 20}),\n",
    "    '?': Vec({'a', 'b'}, {'a': 3, 'b': 30})\n",
    "}\n",
    "\n",
    "m\n"
   ]
  },
  {
   "cell_type": "code",
   "execution_count": 7,
   "metadata": {
    "collapsed": true
   },
   "outputs": [],
   "source": [
    "# class Mat:\n",
    "#     def __init__(self, labels, function):\n",
    "#         self.D = labels\n",
    "#         self.F = function\n",
    "#     def __str__(self):\n",
    "#         return 'Mat({}, {})'.format(self.D, self.F)\n",
    "#     def __repr__(self):\n",
    "#         return 'Mat({}, {})'.format(self.D, self.F)"
   ]
  },
  {
   "cell_type": "code",
   "execution_count": 8,
   "metadata": {
    "collapsed": true
   },
   "outputs": [],
   "source": [
    "# 4.1.5\n",
    "D1 = {'a', 'b', 'c'}\n",
    "D2 = D1\n",
    "def generate_preimage(D1, D2):\n",
    "    for d1 in D1:\n",
    "        for d2 in D2:\n",
    "            yield (d1, d2)"
   ]
  },
  {
   "cell_type": "code",
   "execution_count": 9,
   "metadata": {},
   "outputs": [
    {
     "name": "stdout",
     "output_type": "stream",
     "text": [
      "         cols|      a      b      c\n",
      "   rows______|_____________________\n",
      "      a      |      1    Nan    Nan\n",
      "      b      |    Nan      1    Nan\n",
      "      c      |    Nan    Nan      1\n"
     ]
    },
    {
     "ename": "TypeError",
     "evalue": "__str__ returned non-string (type NoneType)",
     "output_type": "error",
     "traceback": [
      "\u001b[1;31m---------------------------------------------------------------------------\u001b[0m",
      "\u001b[1;31mTypeError\u001b[0m                                 Traceback (most recent call last)",
      "\u001b[1;32m<ipython-input-9-97deeb64abce>\u001b[0m in \u001b[0;36m<module>\u001b[1;34m()\u001b[0m\n\u001b[0;32m      6\u001b[0m \u001b[0midentity_matrix\u001b[0m \u001b[1;33m=\u001b[0m \u001b[0mMat\u001b[0m\u001b[1;33m(\u001b[0m\u001b[1;33m(\u001b[0m\u001b[0mD1\u001b[0m\u001b[1;33m,\u001b[0m \u001b[0mD2\u001b[0m\u001b[1;33m)\u001b[0m\u001b[1;33m,\u001b[0m \u001b[0mf_mappings\u001b[0m\u001b[1;33m)\u001b[0m\u001b[1;33m\u001b[0m\u001b[0m\n\u001b[0;32m      7\u001b[0m \u001b[1;33m\u001b[0m\u001b[0m\n\u001b[1;32m----> 8\u001b[1;33m \u001b[0mprint\u001b[0m\u001b[1;33m(\u001b[0m\u001b[0midentity_matrix\u001b[0m\u001b[1;33m)\u001b[0m\u001b[1;33m\u001b[0m\u001b[0m\n\u001b[0m",
      "\u001b[1;31mTypeError\u001b[0m: __str__ returned non-string (type NoneType)"
     ]
    }
   ],
   "source": [
    "f_mappings = {}\n",
    "for d1, d2 in generate_preimage(D1, D2):\n",
    "    if d1 == d2:\n",
    "        f_mappings[(d1, d2)] = 1\n",
    "        \n",
    "identity_matrix = Mat((D1, D2), f_mappings)\n",
    "\n",
    "print(identity_matrix)"
   ]
  },
  {
   "cell_type": "code",
   "execution_count": 13,
   "metadata": {
    "scrolled": true
   },
   "outputs": [],
   "source": [
    "A = Mat(({0, 1}, {0, 1, 2, 3}), {(0, 0): 10, (0, 1): 20, (0, 3): 40, (1, 1): 60, (1, 2): 70, (1, 3): 80})"
   ]
  },
  {
   "cell_type": "code",
   "execution_count": 29,
   "metadata": {
    "scrolled": false
   },
   "outputs": [
    {
     "name": "stdout",
     "output_type": "stream",
     "text": [
      "     cols|    1    2\n",
      " rows____|__________\n",
      "\n"
     ]
    }
   ],
   "source": [
    "rows = [0, 1]\n",
    "cols = [1, 2]\n",
    "row_labels = rows if rows else list(A.D[0])\n",
    "col_labels = cols if cols else list(A.D[1])\n",
    "\n",
    "max_cell_length = max(len(str(value)) \n",
    "                      for value in list(A.f.values()) + row_labels + col_labels)\n",
    "cell_width = max_cell_length + 3\n",
    "row_template = ('{:>'+str(cell_width)+'}') * (len(col_labels) + 2) + '\\n'\n",
    "header = row_template.format('', 'cols|', *col_labels)\n",
    "h_separator = '_' * cell_width\n",
    "separator = row_template.format('rows', h_separator[:-1] + '|', \n",
    "                         *([h_separator] * len(col_labels)))\n",
    "rows = []\n",
    "for r in row_labels:\n",
    "    rows.append(row_template.format(r, '|', \n",
    "                *([A.f.get((r, c), 'Nan') for c in col_labels])))\n",
    "\n",
    "return_str = header + separator\n",
    "for row in rows:\n",
    "    return_str += row\n",
    "\n",
    "print(header + separator)"
   ]
  },
  {
   "cell_type": "code",
   "execution_count": 16,
   "metadata": {},
   "outputs": [
    {
     "data": {
      "text/plain": [
       "'{:>5}{:>5}{:>5}{:>5}\\n'"
      ]
     },
     "execution_count": 16,
     "metadata": {},
     "output_type": "execute_result"
    }
   ],
   "source": [
    "('{:>'+str(cell_width)+'}') * (len(col_labels) + 2) + '\\n'"
   ]
  },
  {
   "cell_type": "raw",
   "metadata": {},
   "source": [
    "'{}, {}'.format(*range(2))"
   ]
  },
  {
   "cell_type": "code",
   "execution_count": null,
   "metadata": {},
   "outputs": [],
   "source": [
    "# 4.1.6\n",
    "def generate_identity_matrix(D):\n",
    "    f_mappings = {}\n",
    "    for d1, d2 in generate_preimage(D, D):\n",
    "        if d1 == d2:\n",
    "            f_mappings[(d1, d2)] = 1\n",
    "\n",
    "    identity_matrix = Mat((D, D), f_mappings)\n",
    "    return identity_matrix\n",
    "\n",
    "generate_identity_matrix({'@', '#', '$', '%'})"
   ]
  },
  {
   "cell_type": "code",
   "execution_count": null,
   "metadata": {},
   "outputs": [],
   "source": [
    "# 4.1.6 oneline\n",
    "def identity(D):\n",
    "    return Mat((D, D), {(d, d): 1 for d in D})\n",
    "\n",
    "identity({'@', '#', '$', '%'})"
   ]
  },
  {
   "cell_type": "code",
   "execution_count": null,
   "metadata": {},
   "outputs": [],
   "source": [
    "# 4.1.7\n",
    "def mat2rowdict(M):\n",
    "      return {r: Vec(M.D[1], {c: M.F.get((r, c), 0) for c in M.D[1]}) for r in M.D[0]}\n",
    "        \n",
    "mat2rowdict(Mat(({'%', '#', '$', '@'}, {'%', '#', '$', '@'}), {('%', '%'): 1, ('#', '#'): 1, ('$', '$'): 1, ('@', '@'): 1}))"
   ]
  },
  {
   "cell_type": "code",
   "execution_count": null,
   "metadata": {},
   "outputs": [],
   "source": [
    "# 4.1.8\n",
    "def mat2coldict(M):\n",
    "    return {c: Vec(M.D[0], {r: M.F.get((r, c), 0) for r in M.D[0]}) for c in M.D[1]}\n",
    "\n",
    "mat2coldict(Mat(({'%', '#', '$', '@'}, {'%', '#', '$', '@'}), {('%', '%'): 1, ('#', '#'): 1, ('$', '$'): 1, ('@', '@'): 1}))"
   ]
  },
  {
   "cell_type": "code",
   "execution_count": null,
   "metadata": {},
   "outputs": [],
   "source": [
    "A = {0:Vec({0,1},{0:1,1:2}),1:Vec({0,1},{0:3,1:4})}\n",
    "value(A)"
   ]
  },
  {
   "cell_type": "code",
   "execution_count": null,
   "metadata": {},
   "outputs": [],
   "source": [
    "listlist2mat([[10, 20, 30, 40], [50, 60, 70, 80]])"
   ]
  },
  {
   "cell_type": "code",
   "execution_count": null,
   "metadata": {
    "collapsed": true
   },
   "outputs": [],
   "source": [
    "# 4.3.1\n",
    "def mat2vec(M):\n",
    "    return Vec({(r, c)for r in M.D[0] for c in M.D[1]}, M.f)"
   ]
  },
  {
   "cell_type": "code",
   "execution_count": null,
   "metadata": {},
   "outputs": [],
   "source": [
    "M = Mat(({'a', 'b'}, {'@', '#', '?'}) ,{('a','@'): 1, ('a','#'): 2, ('a', '?'): 3, \n",
    " ('b', '@'): 10, ('b', '#'): 20, ('b', '?'): 20})\n",
    "mat2vec(M)"
   ]
  },
  {
   "cell_type": "code",
   "execution_count": 10,
   "metadata": {},
   "outputs": [
    {
     "name": "stdout",
     "output_type": "stream",
     "text": [
      "         cols|      3      4\n",
      "   rows______|______________\n",
      "      1      |      5      6\n",
      "      2      |      7      8\n"
     ]
    },
    {
     "ename": "TypeError",
     "evalue": "__str__ returned non-string (type NoneType)",
     "output_type": "error",
     "traceback": [
      "\u001b[1;31m---------------------------------------------------------------------------\u001b[0m",
      "\u001b[1;31mTypeError\u001b[0m                                 Traceback (most recent call last)",
      "\u001b[1;32m<ipython-input-10-b6e4e81ff662>\u001b[0m in \u001b[0;36m<module>\u001b[1;34m()\u001b[0m\n\u001b[1;32m----> 1\u001b[1;33m \u001b[0mprint\u001b[0m\u001b[1;33m(\u001b[0m\u001b[0mMat\u001b[0m\u001b[1;33m(\u001b[0m\u001b[1;33m(\u001b[0m\u001b[1;33m{\u001b[0m\u001b[1;36m1\u001b[0m\u001b[1;33m,\u001b[0m \u001b[1;36m2\u001b[0m\u001b[1;33m}\u001b[0m\u001b[1;33m,\u001b[0m\u001b[1;33m{\u001b[0m\u001b[1;36m3\u001b[0m\u001b[1;33m,\u001b[0m \u001b[1;36m4\u001b[0m\u001b[1;33m}\u001b[0m\u001b[1;33m)\u001b[0m\u001b[1;33m,\u001b[0m \u001b[1;33m{\u001b[0m\u001b[1;33m(\u001b[0m\u001b[1;36m1\u001b[0m\u001b[1;33m,\u001b[0m \u001b[1;36m3\u001b[0m\u001b[1;33m)\u001b[0m\u001b[1;33m:\u001b[0m \u001b[1;36m5\u001b[0m\u001b[1;33m,\u001b[0m \u001b[1;33m(\u001b[0m\u001b[1;36m1\u001b[0m\u001b[1;33m,\u001b[0m \u001b[1;36m4\u001b[0m\u001b[1;33m)\u001b[0m\u001b[1;33m:\u001b[0m \u001b[1;36m6\u001b[0m\u001b[1;33m,\u001b[0m \u001b[1;33m(\u001b[0m\u001b[1;36m2\u001b[0m\u001b[1;33m,\u001b[0m \u001b[1;36m3\u001b[0m\u001b[1;33m)\u001b[0m\u001b[1;33m:\u001b[0m \u001b[1;36m7\u001b[0m\u001b[1;33m,\u001b[0m \u001b[1;33m(\u001b[0m\u001b[1;36m2\u001b[0m\u001b[1;33m,\u001b[0m \u001b[1;36m4\u001b[0m\u001b[1;33m)\u001b[0m\u001b[1;33m:\u001b[0m \u001b[1;36m8\u001b[0m\u001b[1;33m}\u001b[0m\u001b[1;33m)\u001b[0m\u001b[1;33m)\u001b[0m\u001b[1;33m\u001b[0m\u001b[0m\n\u001b[0m",
      "\u001b[1;31mTypeError\u001b[0m: __str__ returned non-string (type NoneType)"
     ]
    }
   ],
   "source": [
    "print(Mat(({1, 2},{3, 4}), {(1, 3): 5, (1, 4): 6, (2, 3): 7, (2, 4): 8}))"
   ]
  },
  {
   "cell_type": "code",
   "execution_count": 11,
   "metadata": {},
   "outputs": [
    {
     "ename": "NameError",
     "evalue": "name 'cell_width' is not defined",
     "output_type": "error",
     "traceback": [
      "\u001b[1;31m---------------------------------------------------------------------------\u001b[0m",
      "\u001b[1;31mNameError\u001b[0m                                 Traceback (most recent call last)",
      "\u001b[1;32m<ipython-input-11-a30f99d685fb>\u001b[0m in \u001b[0;36m<module>\u001b[1;34m()\u001b[0m\n\u001b[1;32m----> 1\u001b[1;33m \u001b[1;33m(\u001b[0m\u001b[1;34m'{:>'\u001b[0m\u001b[1;33m+\u001b[0m\u001b[0mstr\u001b[0m\u001b[1;33m(\u001b[0m\u001b[0mcell_width\u001b[0m\u001b[1;33m)\u001b[0m\u001b[1;33m+\u001b[0m\u001b[1;34m'}'\u001b[0m\u001b[1;33m)\u001b[0m \u001b[1;33m*\u001b[0m \u001b[1;33m(\u001b[0m\u001b[0mlen\u001b[0m\u001b[1;33m(\u001b[0m\u001b[0mcol_labels\u001b[0m\u001b[1;33m)\u001b[0m \u001b[1;33m+\u001b[0m \u001b[1;36m2\u001b[0m\u001b[1;33m)\u001b[0m\u001b[1;33m\u001b[0m\u001b[0m\n\u001b[0m",
      "\u001b[1;31mNameError\u001b[0m: name 'cell_width' is not defined"
     ]
    }
   ],
   "source": []
  }
 ],
 "metadata": {
  "kernelspec": {
   "display_name": "Python 3",
   "language": "python",
   "name": "python3"
  },
  "language_info": {
   "codemirror_mode": {
    "name": "ipython",
    "version": 3
   },
   "file_extension": ".py",
   "mimetype": "text/x-python",
   "name": "python",
   "nbconvert_exporter": "python",
   "pygments_lexer": "ipython3",
   "version": "3.6.1"
  }
 },
 "nbformat": 4,
 "nbformat_minor": 2
}
