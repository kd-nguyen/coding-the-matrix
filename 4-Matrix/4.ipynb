{
 "cells": [
  {
   "cell_type": "code",
   "execution_count": 75,
   "metadata": {},
   "outputs": [
    {
     "data": {
      "text/html": [
       "<style>.container { width:100% !important; }</style>"
      ],
      "text/plain": [
       "<IPython.core.display.HTML object>"
      ]
     },
     "metadata": {},
     "output_type": "display_data"
    }
   ],
   "source": [
    "from IPython.core.display import display, HTML\n",
    "display(HTML(\"<style>.container { width:100% !important; }</style>\"))"
   ]
  },
  {
   "cell_type": "code",
   "execution_count": 1,
   "metadata": {
    "collapsed": true
   },
   "outputs": [],
   "source": [
    "import sys\n",
    "sys.path.insert(0, r'C:\\Projects\\coding-the-matrix\\Data')\n",
    "\n",
    "%load_ext autoreload\n",
    "%aimport vec, GF2, mat, matutil\n",
    "%autoreload 1\n",
    "\n",
    "import numpy as np\n",
    "from vec import *\n",
    "from GF2 import *\n",
    "from mat import *\n",
    "from matutil import *"
   ]
  },
  {
   "cell_type": "code",
   "execution_count": 3,
   "metadata": {},
   "outputs": [
    {
     "data": {
      "text/plain": [
       "[[0, 0, 0, 0], [0, 0, 0, 0], [0, 0, 0, 0]]"
      ]
     },
     "execution_count": 3,
     "metadata": {},
     "output_type": "execute_result"
    }
   ],
   "source": [
    "# 4.1.1\n",
    "[[0 for j in range(4)] for i in range(3)]"
   ]
  },
  {
   "cell_type": "code",
   "execution_count": 4,
   "metadata": {},
   "outputs": [
    {
     "data": {
      "text/plain": [
       "[[0, 1, 2], [-1, 0, 1], [-2, -1, 0], [-3, -2, -1]]"
      ]
     },
     "execution_count": 4,
     "metadata": {},
     "output_type": "execute_result"
    }
   ],
   "source": [
    "# 4.1.2\n",
    "[[i - j for i in range(3)] for j in range(4)]"
   ]
  },
  {
   "cell_type": "code",
   "execution_count": 5,
   "metadata": {},
   "outputs": [
    {
     "data": {
      "text/plain": [
       "Vec({'a', 'b'},{'a': 3, 'b': 30})"
      ]
     },
     "execution_count": 5,
     "metadata": {},
     "output_type": "execute_result"
    }
   ],
   "source": [
    "# 4.1.4\n",
    "Vec({'a', 'b'}, {'a': 3, 'b': 30})"
   ]
  },
  {
   "cell_type": "code",
   "execution_count": 6,
   "metadata": {},
   "outputs": [
    {
     "data": {
      "text/plain": [
       "{'#': Vec({'a', 'b'},{'a': 2, 'b': 20}),\n",
       " '?': Vec({'a', 'b'},{'a': 3, 'b': 30}),\n",
       " '@': Vec({'a', 'b'},{'a': 1, 'b': 10})}"
      ]
     },
     "execution_count": 6,
     "metadata": {},
     "output_type": "execute_result"
    }
   ],
   "source": [
    "# 4.1.5\n",
    "m = {\n",
    "    '@': Vec({'a', 'b'}, {'a': 1, 'b': 10}),\n",
    "    '#': Vec({'a', 'b'}, {'a': 2, 'b': 20}),\n",
    "    '?': Vec({'a', 'b'}, {'a': 3, 'b': 30})\n",
    "}\n",
    "\n",
    "m\n"
   ]
  },
  {
   "cell_type": "code",
   "execution_count": 7,
   "metadata": {
    "collapsed": true
   },
   "outputs": [],
   "source": [
    "# class Mat:\n",
    "#     def __init__(self, labels, function):\n",
    "#         self.D = labels\n",
    "#         self.F = function\n",
    "#     def __str__(self):\n",
    "#         return 'Mat({}, {})'.format(self.D, self.F)\n",
    "#     def __repr__(self):\n",
    "#         return 'Mat({}, {})'.format(self.D, self.F)"
   ]
  },
  {
   "cell_type": "code",
   "execution_count": 8,
   "metadata": {
    "collapsed": true
   },
   "outputs": [],
   "source": [
    "# 4.1.5\n",
    "D1 = {'a', 'b', 'c'}\n",
    "D2 = D1\n",
    "def generate_preimage(D1, D2):\n",
    "    for d1 in D1:\n",
    "        for d2 in D2:\n",
    "            yield (d1, d2)"
   ]
  },
  {
   "cell_type": "code",
   "execution_count": 9,
   "metadata": {},
   "outputs": [
    {
     "name": "stdout",
     "output_type": "stream",
     "text": [
      "         cols|      a      b      c\n",
      "   rows______|_____________________\n",
      "      a      |      1      0      0\n",
      "      b      |      0      1      0\n",
      "      c      |      0      0      1\n",
      "\n"
     ]
    }
   ],
   "source": [
    "f_mappings = {}\n",
    "for d1, d2 in generate_preimage(D1, D2):\n",
    "    if d1 == d2:\n",
    "        f_mappings[(d1, d2)] = 1\n",
    "        \n",
    "identity_matrix = Mat((D1, D2), f_mappings)\n",
    "\n",
    "print(identity_matrix)"
   ]
  },
  {
   "cell_type": "code",
   "execution_count": 10,
   "metadata": {
    "collapsed": true,
    "scrolled": true
   },
   "outputs": [],
   "source": [
    "A = Mat(({0, 1}, {0, 1, 2, 3}), {(0, 0): 10, (0, 1): 20, (0, 3): 40, (1, 1): 60, (1, 2): 70, (1, 3): 80})"
   ]
  },
  {
   "cell_type": "code",
   "execution_count": 11,
   "metadata": {},
   "outputs": [
    {
     "data": {
      "text/plain": [
       "[0, 1]"
      ]
     },
     "execution_count": 11,
     "metadata": {},
     "output_type": "execute_result"
    }
   ],
   "source": [
    "sorted(A.D[0])"
   ]
  },
  {
   "cell_type": "code",
   "execution_count": 12,
   "metadata": {
    "collapsed": true,
    "scrolled": false
   },
   "outputs": [],
   "source": [
    "# rows = [0, 1]\n",
    "# cols = [1, 2]\n",
    "# row_labels = rows if rows else list(A.D[0])\n",
    "# col_labels = cols if cols else list(A.D[1])\n",
    "\n",
    "# max_cell_length = max(len(str(value)) \n",
    "#                       for value in list(A.f.values()) + row_labels + col_labels)\n",
    "# cell_width = max_cell_length + 3\n",
    "# row_template = ('{:>'+str(cell_width)+'}') * (len(col_labels) + 2) + '\\n'\n",
    "# header = row_template.format('', 'cols|', *col_labels)\n",
    "# h_separator = '_' * cell_width\n",
    "# separator = row_template.format('rows', h_separator[:-1] + '|', \n",
    "#                          *([h_separator] * len(col_labels)))\n",
    "# rows = []\n",
    "# for r in row_labels:\n",
    "#     rows.append(row_template.format(r, '|', \n",
    "#                 *([A.f.get((r, c), 'Nan') for c in col_labels])))\n",
    "\n",
    "# return_str = header + separator\n",
    "# for row in rows:\n",
    "#     return_str += row\n",
    "\n",
    "# print(header + separator)"
   ]
  },
  {
   "cell_type": "code",
   "execution_count": 13,
   "metadata": {
    "collapsed": true
   },
   "outputs": [],
   "source": [
    "# ('{:>'+str(cell_width)+'}') * (len(col_labels) + 2) + '\\n'"
   ]
  },
  {
   "cell_type": "raw",
   "metadata": {},
   "source": [
    "'{}, {}'.format(*range(2))"
   ]
  },
  {
   "cell_type": "code",
   "execution_count": 14,
   "metadata": {},
   "outputs": [
    {
     "data": {
      "text/plain": [
       "Mat(({'#', '@', '$', '%'}, {'#', '@', '$', '%'}), {('#', '#'): 1, ('@', '@'): 1, ('$', '$'): 1, ('%', '%'): 1})"
      ]
     },
     "execution_count": 14,
     "metadata": {},
     "output_type": "execute_result"
    }
   ],
   "source": [
    "# 4.1.6\n",
    "def generate_identity_matrix(D):\n",
    "    f_mappings = {}\n",
    "    for d1, d2 in generate_preimage(D, D):\n",
    "        if d1 == d2:\n",
    "            f_mappings[(d1, d2)] = 1\n",
    "\n",
    "    identity_matrix = Mat((D, D), f_mappings)\n",
    "    return identity_matrix\n",
    "\n",
    "generate_identity_matrix({'@', '#', '$', '%'})"
   ]
  },
  {
   "cell_type": "code",
   "execution_count": 15,
   "metadata": {},
   "outputs": [
    {
     "data": {
      "text/plain": [
       "Mat(({'#', '@', '$', '%'}, {'#', '@', '$', '%'}), {('#', '#'): 1, ('@', '@'): 1, ('$', '$'): 1, ('%', '%'): 1})"
      ]
     },
     "execution_count": 15,
     "metadata": {},
     "output_type": "execute_result"
    }
   ],
   "source": [
    "# 4.1.6 oneline\n",
    "def identity(D):\n",
    "    return Mat((D, D), {(d, d): 1 for d in D})\n",
    "\n",
    "identity({'@', '#', '$', '%'})"
   ]
  },
  {
   "cell_type": "code",
   "execution_count": 16,
   "metadata": {},
   "outputs": [
    {
     "data": {
      "text/plain": [
       "{'#': Vec({'#', '@', '$', '%'},{'#': 1}),\n",
       " '$': Vec({'#', '@', '$', '%'},{'$': 1}),\n",
       " '%': Vec({'#', '@', '$', '%'},{'%': 1}),\n",
       " '@': Vec({'#', '@', '$', '%'},{'@': 1})}"
      ]
     },
     "execution_count": 16,
     "metadata": {},
     "output_type": "execute_result"
    }
   ],
   "source": [
    "# 4.1.7\n",
    "def mat2rowdict(M):\n",
    "      return {r: Vec(M.D[1], {c: M.f.get((r, c), 0) for c in M.D[1]}) for r in M.D[0]}\n",
    "        \n",
    "mat2rowdict(Mat(({'%', '#', '$', '@'}, {'%', '#', '$', '@'}), {('%', '%'): 1, ('#', '#'): 1, ('$', '$'): 1, ('@', '@'): 1}))"
   ]
  },
  {
   "cell_type": "code",
   "execution_count": 17,
   "metadata": {},
   "outputs": [
    {
     "data": {
      "text/plain": [
       "{'#': Vec({'#', '@', '$', '%'},{'#': 1}),\n",
       " '$': Vec({'#', '@', '$', '%'},{'$': 1}),\n",
       " '%': Vec({'#', '@', '$', '%'},{'%': 1}),\n",
       " '@': Vec({'#', '@', '$', '%'},{'@': 1})}"
      ]
     },
     "execution_count": 17,
     "metadata": {},
     "output_type": "execute_result"
    }
   ],
   "source": [
    "# 4.1.8\n",
    "def mat2coldict(M):\n",
    "    return {c: Vec(M.D[0], {r: M.f.get((r, c), 0) for r in M.D[0]}) for c in M.D[1]}\n",
    "\n",
    "mat2coldict(Mat(({'%', '#', '$', '@'}, {'%', '#', '$', '@'}), {('%', '%'): 1, ('#', '#'): 1, ('$', '$'): 1, ('@', '@'): 1}))"
   ]
  },
  {
   "cell_type": "code",
   "execution_count": 18,
   "metadata": {},
   "outputs": [
    {
     "data": {
      "text/plain": [
       "Vec({0, 1},{0: 1, 1: 2})"
      ]
     },
     "execution_count": 18,
     "metadata": {},
     "output_type": "execute_result"
    }
   ],
   "source": [
    "A = {0:Vec({0,1},{0:1,1:2}),1:Vec({0,1},{0:3,1:4})}\n",
    "value(A)"
   ]
  },
  {
   "cell_type": "code",
   "execution_count": 19,
   "metadata": {},
   "outputs": [
    {
     "data": {
      "text/plain": [
       "Mat(({0, 1}, {0, 1, 2, 3}), {(0, 0): 10, (0, 1): 20, (0, 2): 30, (0, 3): 40, (1, 0): 50, (1, 1): 60, (1, 2): 70, (1, 3): 80})"
      ]
     },
     "execution_count": 19,
     "metadata": {},
     "output_type": "execute_result"
    }
   ],
   "source": [
    "listlist2mat([[10, 20, 30, 40], [50, 60, 70, 80]])"
   ]
  },
  {
   "cell_type": "code",
   "execution_count": 3,
   "metadata": {
    "collapsed": true
   },
   "outputs": [],
   "source": [
    "# 4.3.1\n",
    "def mat2vec(M):\n",
    "    return Vec({(r, c)for r in M.D[0] for c in M.D[1]}, M.f)"
   ]
  },
  {
   "cell_type": "code",
   "execution_count": 4,
   "metadata": {},
   "outputs": [
    {
     "name": "stdout",
     "output_type": "stream",
     "text": [
      "\n",
      " ('a', '#') ('a', '?') ('a', '@') ('b', '#') ('b', '?') ('b', '@')\n",
      "__________________________________________________________________\n",
      "          2          3          1         20         20         10\n"
     ]
    }
   ],
   "source": [
    "M = Mat(({'a', 'b'}, {'@', '#', '?'}) ,{('a','@'): 1, ('a','#'): 2, ('a', '?'): 3, \n",
    " ('b', '@'): 10, ('b', '#'): 20, ('b', '?'): 20})\n",
    "print(mat2vec(M))"
   ]
  },
  {
   "cell_type": "code",
   "execution_count": 5,
   "metadata": {},
   "outputs": [
    {
     "name": "stdout",
     "output_type": "stream",
     "text": [
      "         cols|      #      ?      @\n",
      "   rows______|_____________________\n",
      "      a      |      2      3      1\n",
      "      b      |     20     20     10\n",
      "\n"
     ]
    }
   ],
   "source": [
    "print(M)"
   ]
  },
  {
   "cell_type": "code",
   "execution_count": 12,
   "metadata": {
    "collapsed": true
   },
   "outputs": [],
   "source": [
    "# 4.4.2\n",
    "def transpose(M):\n",
    "    return Mat((M.D[1], M.D[0]), {(c, r): v for (r, c), v in M.f.items()})"
   ]
  },
  {
   "cell_type": "code",
   "execution_count": 10,
   "metadata": {},
   "outputs": [
    {
     "name": "stdout",
     "output_type": "stream",
     "text": [
      "         cols|      #      ?      @\n",
      "   rows______|_____________________\n",
      "      a      |      2      3      1\n",
      "      b      |     20     20     10\n",
      "\n"
     ]
    }
   ],
   "source": [
    "print(M)"
   ]
  },
  {
   "cell_type": "code",
   "execution_count": 13,
   "metadata": {},
   "outputs": [
    {
     "name": "stdout",
     "output_type": "stream",
     "text": [
      "         cols|      a      b\n",
      "   rows______|______________\n",
      "      #      |      2     20\n",
      "      ?      |      3     20\n",
      "      @      |      1     10\n",
      "\n"
     ]
    }
   ],
   "source": [
    "print(transpose(M))"
   ]
  },
  {
   "cell_type": "code",
   "execution_count": 76,
   "metadata": {
    "scrolled": true
   },
   "outputs": [
    {
     "name": "stdout",
     "output_type": "stream",
     "text": [
      "             cols|   (0, 0)   (0, 1)   (0, 2)   (0, 3)   (1, 0)   (1, 1)   (1, 2)   (1, 3)   (2, 0)   (2, 1)   (2, 2)   (2, 3)   (3, 0)   (3, 1)   (3, 2)   (3, 3)\n",
      "     rows________|________________________________________________________________________________________________________________________________________________\n",
      "   (0, 0)        |      one      one        0        0      one        0        0        0        0        0        0        0        0        0        0        0\n",
      "   (0, 1)        |      one      one      one        0        0      one        0        0        0        0        0        0        0        0        0        0\n",
      "   (0, 2)        |        0      one      one      one        0        0      one        0        0        0        0        0        0        0        0        0\n",
      "   (0, 3)        |        0        0      one      one        0        0        0      one        0        0        0        0        0        0        0        0\n",
      "   (1, 0)        |      one        0        0        0      one      one        0        0      one        0        0        0        0        0        0        0\n",
      "   (1, 1)        |        0      one        0        0      one      one      one        0        0      one        0        0        0        0        0        0\n",
      "   (1, 2)        |        0        0      one        0        0      one      one      one        0        0      one        0        0        0        0        0\n",
      "   (1, 3)        |        0        0        0      one        0        0      one      one        0        0        0      one        0        0        0        0\n",
      "   (2, 0)        |        0        0        0        0      one        0        0        0      one      one        0        0      one        0        0        0\n",
      "   (2, 1)        |        0        0        0        0        0      one        0        0      one      one      one        0        0      one        0        0\n",
      "   (2, 2)        |        0        0        0        0        0        0      one        0        0      one      one      one        0        0      one        0\n",
      "   (2, 3)        |        0        0        0        0        0        0        0      one        0        0      one      one        0        0        0      one\n",
      "   (3, 0)        |        0        0        0        0        0        0        0        0      one        0        0        0      one      one        0        0\n",
      "   (3, 1)        |        0        0        0        0        0        0        0        0        0      one        0        0      one      one      one        0\n",
      "   (3, 2)        |        0        0        0        0        0        0        0        0        0        0      one        0        0      one      one      one\n",
      "   (3, 3)        |        0        0        0        0        0        0        0        0        0        0        0      one        0        0      one      one\n",
      "\n"
     ]
    }
   ],
   "source": [
    "def button_vectors(n):\n",
    "    D = {(i,j) for i in range(n) for j in range(n)}\n",
    "    vecdict={(i,j):Vec(D,dict([((x,j),one) for x in range(max(i-1,0), min(i+2,n))]\n",
    "    +[((i,y),one) for y in range(max(j-1,0), min(j+2,n))]))\n",
    "    for (i,j) in D}\n",
    "    return vecdict\n",
    "\n",
    "B = coldict2mat(button_vectors(4))\n",
    "print(B)"
   ]
  },
  {
   "cell_type": "code",
   "execution_count": 49,
   "metadata": {},
   "outputs": [
    {
     "data": {
      "text/plain": [
       "{1: 4}"
      ]
     },
     "execution_count": 49,
     "metadata": {},
     "output_type": "execute_result"
    }
   ],
   "source": [
    "dict([(1, 2), (1, 4)])"
   ]
  },
  {
   "cell_type": "code",
   "execution_count": 28,
   "metadata": {},
   "outputs": [],
   "source": [
    "row_labels = sorted(B.D[0])\n",
    "col_labels = sorted(B.D[1])"
   ]
  },
  {
   "cell_type": "code",
   "execution_count": 31,
   "metadata": {},
   "outputs": [],
   "source": [
    "max_cell_length = max(len(str(value)) for value in list(B.f.values()) + row_labels + col_labels + ['cols', 'rows'])"
   ]
  },
  {
   "cell_type": "code",
   "execution_count": 32,
   "metadata": {},
   "outputs": [
    {
     "data": {
      "text/plain": [
       "9"
      ]
     },
     "execution_count": 32,
     "metadata": {},
     "output_type": "execute_result"
    }
   ],
   "source": [
    "cell_width = max_cell_length + 3\n",
    "cell_width"
   ]
  },
  {
   "cell_type": "code",
   "execution_count": 33,
   "metadata": {
    "collapsed": true
   },
   "outputs": [],
   "source": [
    "row_template = ('{:>'+str(cell_width)+'}') * (len(col_labels) + 2) + '\\n'"
   ]
  },
  {
   "cell_type": "code",
   "execution_count": 34,
   "metadata": {},
   "outputs": [
    {
     "data": {
      "text/plain": [
       "'{:>9}{:>9}{:>9}{:>9}{:>9}{:>9}{:>9}{:>9}{:>9}{:>9}{:>9}{:>9}{:>9}{:>9}{:>9}{:>9}{:>9}{:>9}{:>9}{:>9}{:>9}{:>9}{:>9}{:>9}{:>9}{:>9}{:>9}\\n'"
      ]
     },
     "execution_count": 34,
     "metadata": {},
     "output_type": "execute_result"
    }
   ],
   "source": [
    "row_template"
   ]
  },
  {
   "cell_type": "code",
   "execution_count": 35,
   "metadata": {},
   "outputs": [
    {
     "ename": "TypeError",
     "evalue": "unsupported format string passed to tuple.__format__",
     "output_type": "error",
     "traceback": [
      "\u001b[1;31m---------------------------------------------------------------------------\u001b[0m",
      "\u001b[1;31mTypeError\u001b[0m                                 Traceback (most recent call last)",
      "\u001b[1;32m<ipython-input-35-4dff356948af>\u001b[0m in \u001b[0;36m<module>\u001b[1;34m()\u001b[0m\n\u001b[1;32m----> 1\u001b[1;33m \u001b[0mheader\u001b[0m \u001b[1;33m=\u001b[0m \u001b[0mrow_template\u001b[0m\u001b[1;33m.\u001b[0m\u001b[0mformat\u001b[0m\u001b[1;33m(\u001b[0m\u001b[1;34m''\u001b[0m\u001b[1;33m,\u001b[0m \u001b[1;34m'cols|'\u001b[0m\u001b[1;33m,\u001b[0m \u001b[1;33m*\u001b[0m\u001b[0mcol_labels\u001b[0m\u001b[1;33m)\u001b[0m\u001b[1;33m\u001b[0m\u001b[0m\n\u001b[0m",
      "\u001b[1;31mTypeError\u001b[0m: unsupported format string passed to tuple.__format__"
     ]
    }
   ],
   "source": [
    "header = row_template.format('', 'cols|', *col_labels)"
   ]
  },
  {
   "cell_type": "code",
   "execution_count": 44,
   "metadata": {},
   "outputs": [],
   "source": [
    "header = row_template.format('', 'cols|', *map(repr, col_labels))"
   ]
  },
  {
   "cell_type": "code",
   "execution_count": 72,
   "metadata": {
    "scrolled": true
   },
   "outputs": [
    {
     "data": {
      "text/plain": [
       "{(0,\n",
       "  0): Vec({(0, 1), (1, 0), (0, 0), (1, 1)},{(0, 1): one, (1, 0): one, (0, 0): one}),\n",
       " (0,\n",
       "  1): Vec({(0, 1), (1, 0), (0, 0), (1, 1)},{(0, 1): one, (0, 0): one, (1, 1): one}),\n",
       " (1,\n",
       "  0): Vec({(0, 1), (1, 0), (0, 0), (1, 1)},{(1, 0): one, (0, 0): one, (1, 1): one}),\n",
       " (1,\n",
       "  1): Vec({(0, 1), (1, 0), (0, 0), (1, 1)},{(0, 1): one, (1, 0): one, (1, 1): one})}"
      ]
     },
     "execution_count": 72,
     "metadata": {},
     "output_type": "execute_result"
    }
   ],
   "source": [
    "def button_vectors(n):\n",
    "    button_locations = {(i, j) for i in range(n) for j in range(n)}\n",
    "    col_labels = button_locations\n",
    "    row_labels = button_locations\n",
    "    coldict = {}\n",
    "    for c_loc in col_labels:\n",
    "        mappings_to_one = {}\n",
    "        for r_loc in row_labels:\n",
    "            manhattan_point_distance = sum(abs(p1 - p2) \n",
    "                                           for p1, p2 in zip(c_loc, r_loc))\n",
    "            if manhattan_point_distance <= 1:\n",
    "                mappings_to_one[r_loc] = one\n",
    "        coldict[c_loc] = Vec(row_labels, mappings_to_one)\n",
    "    \n",
    "    return coldict\n",
    "    \n",
    "button_vectors(2)"
   ]
  },
  {
   "cell_type": "code",
   "execution_count": 74,
   "metadata": {},
   "outputs": [
    {
     "name": "stdout",
     "output_type": "stream",
     "text": [
      "             cols|   (0, 0)   (0, 1)   (0, 2)   (0, 3)   (0, 4)   (1, 0)   (1, 1)   (1, 2)   (1, 3)   (1, 4)   (2, 0)   (2, 1)   (2, 2)   (2, 3)   (2, 4)   (3, 0)   (3, 1)   (3, 2)   (3, 3)   (3, 4)   (4, 0)   (4, 1)   (4, 2)   (4, 3)   (4, 4)\n",
      "     rows________|_________________________________________________________________________________________________________________________________________________________________________________________________________________________________\n",
      "   (0, 0)        |      one      one        0        0        0      one        0        0        0        0        0        0        0        0        0        0        0        0        0        0        0        0        0        0        0\n",
      "   (0, 1)        |      one      one      one        0        0        0      one        0        0        0        0        0        0        0        0        0        0        0        0        0        0        0        0        0        0\n",
      "   (0, 2)        |        0      one      one      one        0        0        0      one        0        0        0        0        0        0        0        0        0        0        0        0        0        0        0        0        0\n",
      "   (0, 3)        |        0        0      one      one      one        0        0        0      one        0        0        0        0        0        0        0        0        0        0        0        0        0        0        0        0\n",
      "   (0, 4)        |        0        0        0      one      one        0        0        0        0      one        0        0        0        0        0        0        0        0        0        0        0        0        0        0        0\n",
      "   (1, 0)        |      one        0        0        0        0      one      one        0        0        0      one        0        0        0        0        0        0        0        0        0        0        0        0        0        0\n",
      "   (1, 1)        |        0      one        0        0        0      one      one      one        0        0        0      one        0        0        0        0        0        0        0        0        0        0        0        0        0\n",
      "   (1, 2)        |        0        0      one        0        0        0      one      one      one        0        0        0      one        0        0        0        0        0        0        0        0        0        0        0        0\n",
      "   (1, 3)        |        0        0        0      one        0        0        0      one      one      one        0        0        0      one        0        0        0        0        0        0        0        0        0        0        0\n",
      "   (1, 4)        |        0        0        0        0      one        0        0        0      one      one        0        0        0        0      one        0        0        0        0        0        0        0        0        0        0\n",
      "   (2, 0)        |        0        0        0        0        0      one        0        0        0        0      one      one        0        0        0      one        0        0        0        0        0        0        0        0        0\n",
      "   (2, 1)        |        0        0        0        0        0        0      one        0        0        0      one      one      one        0        0        0      one        0        0        0        0        0        0        0        0\n",
      "   (2, 2)        |        0        0        0        0        0        0        0      one        0        0        0      one      one      one        0        0        0      one        0        0        0        0        0        0        0\n",
      "   (2, 3)        |        0        0        0        0        0        0        0        0      one        0        0        0      one      one      one        0        0        0      one        0        0        0        0        0        0\n",
      "   (2, 4)        |        0        0        0        0        0        0        0        0        0      one        0        0        0      one      one        0        0        0        0      one        0        0        0        0        0\n",
      "   (3, 0)        |        0        0        0        0        0        0        0        0        0        0      one        0        0        0        0      one      one        0        0        0      one        0        0        0        0\n",
      "   (3, 1)        |        0        0        0        0        0        0        0        0        0        0        0      one        0        0        0      one      one      one        0        0        0      one        0        0        0\n",
      "   (3, 2)        |        0        0        0        0        0        0        0        0        0        0        0        0      one        0        0        0      one      one      one        0        0        0      one        0        0\n",
      "   (3, 3)        |        0        0        0        0        0        0        0        0        0        0        0        0        0      one        0        0        0      one      one      one        0        0        0      one        0\n",
      "   (3, 4)        |        0        0        0        0        0        0        0        0        0        0        0        0        0        0      one        0        0        0      one      one        0        0        0        0      one\n",
      "   (4, 0)        |        0        0        0        0        0        0        0        0        0        0        0        0        0        0        0      one        0        0        0        0      one      one        0        0        0\n",
      "   (4, 1)        |        0        0        0        0        0        0        0        0        0        0        0        0        0        0        0        0      one        0        0        0      one      one      one        0        0\n",
      "   (4, 2)        |        0        0        0        0        0        0        0        0        0        0        0        0        0        0        0        0        0      one        0        0        0      one      one      one        0\n",
      "   (4, 3)        |        0        0        0        0        0        0        0        0        0        0        0        0        0        0        0        0        0        0      one        0        0        0      one      one      one\n",
      "   (4, 4)        |        0        0        0        0        0        0        0        0        0        0        0        0        0        0        0        0        0        0        0      one        0        0        0      one      one\n",
      "\n"
     ]
    }
   ],
   "source": [
    "print(coldict2mat(button_vectors(5)))"
   ]
  },
  {
   "cell_type": "code",
   "execution_count": 60,
   "metadata": {},
   "outputs": [
    {
     "data": {
      "text/plain": [
       "(1, 2, 2, 1)"
      ]
     },
     "execution_count": 60,
     "metadata": {},
     "output_type": "execute_result"
    }
   ],
   "source": [
    "(1, 2) + (2, 1)"
   ]
  }
 ],
 "metadata": {
  "kernelspec": {
   "display_name": "Python 3",
   "language": "python",
   "name": "python3"
  },
  "language_info": {
   "codemirror_mode": {
    "name": "ipython",
    "version": 3
   },
   "file_extension": ".py",
   "mimetype": "text/x-python",
   "name": "python",
   "nbconvert_exporter": "python",
   "pygments_lexer": "ipython3",
   "version": "3.6.1"
  }
 },
 "nbformat": 4,
 "nbformat_minor": 2
}
