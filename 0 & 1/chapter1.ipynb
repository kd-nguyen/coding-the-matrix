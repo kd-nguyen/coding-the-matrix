{
 "cells": [
  {
   "cell_type": "code",
   "execution_count": 17,
   "metadata": {},
   "outputs": [
    {
     "data": {
      "text/plain": [
       "(1.2+0.6j)"
      ]
     },
     "execution_count": 17,
     "metadata": {},
     "output_type": "execute_result"
    }
   ],
   "source": [
    "# Complex number\n",
    "x = 15 / (10 + 5j)\n",
    "x.conjugate()"
   ]
  },
  {
   "cell_type": "code",
   "execution_count": 152,
   "metadata": {
    "collapsed": true
   },
   "outputs": [],
   "source": [
    "# 1.4.1\n",
    "from plotting import plot\n",
    "S = {2 + 2j, 3 + 2j, 1.75 + 1j, 2 + 1j, 2.25 + 1j, 2.5 + 1j, 2.75 + 1j, 3 + 1j, 3.25 + 1j}\n",
    "plot(S, 4)"
   ]
  },
  {
   "cell_type": "code",
   "execution_count": 20,
   "metadata": {},
   "outputs": [],
   "source": [
    "# 1.4.3\n",
    "plot({1 + 2j + z for z in S}, 5)"
   ]
  },
  {
   "cell_type": "code",
   "execution_count": 39,
   "metadata": {},
   "outputs": [],
   "source": [
    "# 1.4.7\n",
    "scaled_points = {z/2 for z in S}\n",
    "plot(scaled_points | S, 5)"
   ]
  },
  {
   "cell_type": "code",
   "execution_count": 148,
   "metadata": {},
   "outputs": [],
   "source": [
    "# 1.4.8\n",
    "def transform8(S):\n",
    "    plot([z * 1j/2 for z in S] + S, 200)"
   ]
  },
  {
   "cell_type": "code",
   "execution_count": 45,
   "metadata": {},
   "outputs": [],
   "source": [
    "# 1.4.9\n",
    "plot([z * 1j/2 + 2 - 1j for z in S] + list(S), 5)"
   ]
  },
  {
   "cell_type": "code",
   "execution_count": 122,
   "metadata": {},
   "outputs": [],
   "source": [
    "# 1.4.10\n",
    "import sys\n",
    "sys.path.append(r'C:\\Projects\\coding-the-matrix\\Data')\n",
    "\n",
    "from image import file2image\n",
    "data = file2image('img01.png')\n",
    "height = len(data)\n",
    "width = len(data[0])\n",
    "\n",
    "pts = []\n",
    "for y in range(height):\n",
    "    for x in range(width):\n",
    "        data[y][x] = data[y][x][0]\n",
    "        if data[y][x] < 120:\n",
    "            pts.append(x + (height - 1 - y) * 1j)  # 1st row in data is actually the top row of the photo after extraction\n",
    "\n",
    "plot(pts, max(width, height))"
   ]
  },
  {
   "cell_type": "code",
   "execution_count": 139,
   "metadata": {},
   "outputs": [],
   "source": [
    "# 1.4.11\n",
    "def f(z, pts):\n",
    "    center = sum(pts) / len(pts)\n",
    "    return z - center\n",
    "\n",
    "pts_centered = [f(z, pts) for z in pts]\n",
    "plot(pts_centered, max(width, height))"
   ]
  },
  {
   "cell_type": "code",
   "execution_count": 149,
   "metadata": {},
   "outputs": [],
   "source": [
    "# 1.4.12\n",
    "transform8(pts)"
   ]
  },
  {
   "cell_type": "code",
   "execution_count": 151,
   "metadata": {},
   "outputs": [],
   "source": [
    "# 1.4.13\n",
    "from math import e, pi\n",
    "n = 20\n",
    "w = e**(2*pi*1j/n)\n",
    "points413 = [w**power for power in range(n)]\n",
    "plot(points413, 5)"
   ]
  },
  {
   "cell_type": "code",
   "execution_count": 153,
   "metadata": {
    "collapsed": true
   },
   "outputs": [],
   "source": [
    "# 1.4.18\n",
    "plot({z * (e**(pi/4 * 1j)) for z in S}, 5)"
   ]
  },
  {
   "cell_type": "code",
   "execution_count": 154,
   "metadata": {
    "collapsed": true
   },
   "outputs": [],
   "source": [
    "# 1.4.19\n",
    "plot({z * (e**(pi/4 * 1j)) for z in pts}, max(width, height))"
   ]
  },
  {
   "cell_type": "code",
   "execution_count": 158,
   "metadata": {},
   "outputs": [],
   "source": [
    "# 1.4.20\n",
    "plot({f(z, pts) * (e**(pi/4 * 1j)) / 2 for z in pts} | set(pts), max(width, height))"
   ]
  },
  {
   "cell_type": "code",
   "execution_count": 230,
   "metadata": {},
   "outputs": [
    {
     "name": "stdout",
     "output_type": "stream",
     "text": [
      "['VEVLZDLVEZ ', 'UFUKYCKUFY_', 'XGXJ_BJXG_Y', 'WHWI AIWH Z', 'RARP_HPRA__', 'QBQO_GOQB__', 'TCTN_FNTC__', 'SDSM_EMSD__', '_M_DRLD_MRS', '_N_CQKC_NQT', '_O_BTJB_OTQ', '_P_ASIA_PSR', 'ZIZHVPHZIVW', 'YJYGUOGYJUX', '_K_FXNF_KXU', ' L EWME LWV', 'FUF_JT_FUJK', 'EVE IS EVIL', 'HWHZLRZHWLI', 'GXGYKQYGXKJ', 'BQB_NX_BQNO', 'ARA_MW_ARMP', 'DSD_PV_DSPM', 'CTC_OU_CTON', 'N_NTB_TN_BC', 'M_MSA SM_AD', 'P_PRDZRP_DA', 'O_OQCYQO_CB', 'JYJXF_XJYFG', 'IZIWE_WIZEH', 'L LVH_VL HE', 'K_KUG_UK_GF']\n"
     ]
    }
   ],
   "source": [
    "# 1.5.1\n",
    "from GF2 import one\n",
    "import string\n",
    "\n",
    "def string_to_gf_list(binary_str):\n",
    "    char_to_gf = {'0': 0, '1': one}\n",
    "    return [char_to_gf[char] for char in binary_str]\n",
    "\n",
    "chars = string.ascii_uppercase + \" \"\n",
    "bins = [format(num, '0>5b') for num in range(32)]\n",
    "bins_to_chars = dict(zip(bins[:27], chars))\n",
    "\n",
    "c = ['10101', '00100', '10101', '01011', '11001', '00011', '01011', '10101', '00100', '11001', '11010']\n",
    "\n",
    "decoded_messages = []\n",
    "for key in bins:\n",
    "    key_gf = string_to_gf_list(key)\n",
    "    decoded_letters = []\n",
    "    for binary_str in c:\n",
    "        str_gf = string_to_gf_list(binary_str)\n",
    "        decoded_gf = [string - key for string, key in zip(str_gf, key_gf)]\n",
    "        decoded_binary = ''.join(['1' if n == one else '0' for n in decoded_gf])\n",
    "        decoded_letter = bins_to_chars.get(decoded_binary, '_')\n",
    "        decoded_letters.append(decoded_letter)\n",
    "    decoded_message = ''.join(decoded_letters)\n",
    "    decoded_messages.append(decoded_message)\n",
    "print(decoded_messages)"
   ]
  },
  {
   "cell_type": "code",
   "execution_count": 231,
   "metadata": {},
   "outputs": [
    {
     "data": {
      "text/plain": [
       "[1, 5, 7]"
      ]
     },
     "execution_count": 231,
     "metadata": {},
     "output_type": "execute_result"
    }
   ],
   "source": [
    "# 1.7.1\n",
    "def my_filter(L, num):\n",
    "    return [n for n in L if n % num != 0]\n",
    "\n",
    "my_filter([1, 2, 4, 5, 7], 2)"
   ]
  },
  {
   "cell_type": "code",
   "execution_count": 233,
   "metadata": {},
   "outputs": [
    {
     "data": {
      "text/plain": [
       "[[1], [1, 2], [1, 2, 3, 4]]"
      ]
     },
     "execution_count": 233,
     "metadata": {},
     "output_type": "execute_result"
    }
   ],
   "source": [
    "# 1.7.2\n",
    "def my_lists(L):\n",
    "    return [list(range(1, n + 1)) for n in L]\n",
    "\n",
    "my_lists([1, 2, 4])"
   ]
  },
  {
   "cell_type": "code",
   "execution_count": 235,
   "metadata": {},
   "outputs": [
    {
     "data": {
      "text/plain": [
       "{0: 'apple', 1: 'banana'}"
      ]
     },
     "execution_count": 235,
     "metadata": {},
     "output_type": "execute_result"
    }
   ],
   "source": [
    "# 1.7.3\n",
    "def my_function_composition(f, g):\n",
    "    return {x: g[f[x]] for x in f}\n",
    "\n",
    "f = {0:'a', 1:'b'}\n",
    "g = {'a':'apple', 'b':'banana'}\n",
    "my_function_composition(f, g)"
   ]
  },
  {
   "cell_type": "code",
   "execution_count": 247,
   "metadata": {},
   "outputs": [
    {
     "data": {
      "text/plain": [
       "10"
      ]
     },
     "execution_count": 247,
     "metadata": {},
     "output_type": "execute_result"
    }
   ],
   "source": [
    "# 1.7.4\n",
    "def mySum(L):\n",
    "    current = 0\n",
    "    for x in L:\n",
    "        current += x\n",
    "    return current\n",
    "\n",
    "mySum([1, 2, 3, 4])"
   ]
  },
  {
   "cell_type": "code",
   "execution_count": 246,
   "metadata": {},
   "outputs": [
    {
     "data": {
      "text/plain": [
       "24"
      ]
     },
     "execution_count": 246,
     "metadata": {},
     "output_type": "execute_result"
    }
   ],
   "source": [
    "# 1.7.5\n",
    "def myProduct(L):\n",
    "    current = 1\n",
    "    for x in L:\n",
    "        current *= x\n",
    "    return current\n",
    "\n",
    "myProduct([1, 2, 3, 4])"
   ]
  },
  {
   "cell_type": "code",
   "execution_count": 248,
   "metadata": {},
   "outputs": [
    {
     "data": {
      "text/plain": [
       "1"
      ]
     },
     "execution_count": 248,
     "metadata": {},
     "output_type": "execute_result"
    }
   ],
   "source": [
    "# 1.7.6\n",
    "def myMin(L):\n",
    "    current = float('inf')\n",
    "    for x in L:\n",
    "        if x < current:\n",
    "            current = x\n",
    "    return current\n",
    "\n",
    "myMin([3, 2, 4, 1])"
   ]
  },
  {
   "cell_type": "code",
   "execution_count": 243,
   "metadata": {},
   "outputs": [
    {
     "data": {
      "text/plain": [
       "'helloworld'"
      ]
     },
     "execution_count": 243,
     "metadata": {},
     "output_type": "execute_result"
    }
   ],
   "source": [
    "# 1.7.7\n",
    "def myConcat(L):\n",
    "    current = ''\n",
    "    for x in L:\n",
    "        current += x\n",
    "    return current\n",
    "\n",
    "myConcat(['hello', 'world'])"
   ]
  },
  {
   "cell_type": "code",
   "execution_count": 242,
   "metadata": {},
   "outputs": [
    {
     "data": {
      "text/plain": [
       "{1, 2, 3, 4}"
      ]
     },
     "execution_count": 242,
     "metadata": {},
     "output_type": "execute_result"
    }
   ],
   "source": [
    "# 1.7.8\n",
    "def myUnion(L):\n",
    "    current = set()\n",
    "    for x in L:\n",
    "        current |= x\n",
    "    return current\n",
    "\n",
    "myUnion([{1, 2, 3}, {2, 3, 4}])"
   ]
  },
  {
   "cell_type": "code",
   "execution_count": 253,
   "metadata": {},
   "outputs": [],
   "source": [
    "# 1.7.12\n",
    "def transform(a, b, L):\n",
    "    return [a * z + b for z in L]\n",
    "\n",
    "plot(transform(-2j, -2j * (1 + 1j), pts) + pts, max(width*2, height*2))"
   ]
  },
  {
   "cell_type": "code",
   "execution_count": 257,
   "metadata": {},
   "outputs": [
    {
     "data": {
      "text/plain": [
       "(0.001+9j)"
      ]
     },
     "execution_count": 257,
     "metadata": {},
     "output_type": "execute_result"
    }
   ],
   "source": [
    "4 * (2j) + (0.001 + 1j)"
   ]
  }
 ],
 "metadata": {
  "kernelspec": {
   "display_name": "Python 3",
   "language": "python",
   "name": "python3"
  },
  "language_info": {
   "codemirror_mode": {
    "name": "ipython",
    "version": 3
   },
   "file_extension": ".py",
   "mimetype": "text/x-python",
   "name": "python",
   "nbconvert_exporter": "python",
   "pygments_lexer": "ipython3",
   "version": "3.6.1"
  }
 },
 "nbformat": 4,
 "nbformat_minor": 2
}
