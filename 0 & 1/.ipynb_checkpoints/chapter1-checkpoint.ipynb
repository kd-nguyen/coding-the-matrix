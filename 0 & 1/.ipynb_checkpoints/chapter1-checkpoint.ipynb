{
 "cells": [
  {
   "cell_type": "code",
   "execution_count": 17,
   "metadata": {},
   "outputs": [
    {
     "data": {
      "text/plain": [
       "(1.2+0.6j)"
      ]
     },
     "execution_count": 17,
     "metadata": {},
     "output_type": "execute_result"
    }
   ],
   "source": [
    "# Complex number\n",
    "x = 15 / (10 + 5j)\n",
    "x.conjugate()"
   ]
  },
  {
   "cell_type": "code",
   "execution_count": 152,
   "metadata": {
    "collapsed": true
   },
   "outputs": [],
   "source": [
    "# 1.4.1\n",
    "from plotting import plot\n",
    "S = {2 + 2j, 3 + 2j, 1.75 + 1j, 2 + 1j, 2.25 + 1j, 2.5 + 1j, 2.75 + 1j, 3 + 1j, 3.25 + 1j}\n",
    "plot(S, 4)"
   ]
  },
  {
   "cell_type": "code",
   "execution_count": 20,
   "metadata": {},
   "outputs": [],
   "source": [
    "# 1.4.3\n",
    "plot({1 + 2j + z for z in S}, 5)"
   ]
  },
  {
   "cell_type": "code",
   "execution_count": 39,
   "metadata": {},
   "outputs": [],
   "source": [
    "# 1.4.7\n",
    "scaled_points = {z/2 for z in S}\n",
    "plot(scaled_points | S, 5)"
   ]
  },
  {
   "cell_type": "code",
   "execution_count": 148,
   "metadata": {},
   "outputs": [],
   "source": [
    "# 1.4.8\n",
    "def transform8(S):\n",
    "    plot([z * 1j/2 for z in S] + S, 200)"
   ]
  },
  {
   "cell_type": "code",
   "execution_count": 45,
   "metadata": {},
   "outputs": [],
   "source": [
    "# 1.4.9\n",
    "plot([z * 1j/2 + 2 - 1j for z in S] + list(S), 5)"
   ]
  },
  {
   "cell_type": "code",
   "execution_count": 122,
   "metadata": {},
   "outputs": [],
   "source": [
    "# 1.4.10\n",
    "import sys\n",
    "sys.path.append(r'C:\\Projects\\coding-the-matrix\\Data')\n",
    "\n",
    "from image import file2image\n",
    "data = file2image('img01.png')\n",
    "height = len(data)\n",
    "width = len(data[0])\n",
    "\n",
    "pts = []\n",
    "for y in range(height):\n",
    "    for x in range(width):\n",
    "        data[y][x] = data[y][x][0]\n",
    "        if data[y][x] < 120:\n",
    "            pts.append(x + (height - 1 - y) * 1j)  # 1st row in data is actually the top row of the photo after extraction\n",
    "\n",
    "plot(pts, max(width, height))"
   ]
  },
  {
   "cell_type": "code",
   "execution_count": 139,
   "metadata": {},
   "outputs": [],
   "source": [
    "# 1.4.11\n",
    "def f(z, pts):\n",
    "    center = sum(pts) / len(pts)\n",
    "    return z - center\n",
    "\n",
    "pts_centered = [f(z, pts) for z in pts]\n",
    "plot(pts_centered, max(width, height))"
   ]
  },
  {
   "cell_type": "code",
   "execution_count": 149,
   "metadata": {},
   "outputs": [],
   "source": [
    "# 1.4.12\n",
    "transform8(pts)"
   ]
  },
  {
   "cell_type": "code",
   "execution_count": 151,
   "metadata": {},
   "outputs": [],
   "source": [
    "# 1.4.13\n",
    "from math import e, pi\n",
    "n = 20\n",
    "w = e**(2*pi*1j/n)\n",
    "points413 = [w**power for power in range(n)]\n",
    "plot(points413, 5)"
   ]
  },
  {
   "cell_type": "code",
   "execution_count": 153,
   "metadata": {
    "collapsed": true
   },
   "outputs": [],
   "source": [
    "# 1.4.18\n",
    "plot({z * (e**(pi/4 * 1j)) for z in S}, 5)"
   ]
  },
  {
   "cell_type": "code",
   "execution_count": 154,
   "metadata": {
    "collapsed": true
   },
   "outputs": [],
   "source": [
    "# 1.4.19\n",
    "plot({z * (e**(pi/4 * 1j)) for z in pts}, max(width, height))"
   ]
  },
  {
   "cell_type": "code",
   "execution_count": 158,
   "metadata": {},
   "outputs": [],
   "source": [
    "# 1.4.20\n",
    "plot({f(z, pts) * (e**(pi/4 * 1j)) / 2 for z in pts} | set(pts), max(width, height))"
   ]
  },
  {
   "cell_type": "code",
   "execution_count": null,
   "metadata": {
    "collapsed": true
   },
   "outputs": [],
   "source": []
  }
 ],
 "metadata": {
  "kernelspec": {
   "display_name": "Python 3",
   "language": "python",
   "name": "python3"
  },
  "language_info": {
   "codemirror_mode": {
    "name": "ipython",
    "version": 3
   },
   "file_extension": ".py",
   "mimetype": "text/x-python",
   "name": "python",
   "nbconvert_exporter": "python",
   "pygments_lexer": "ipython3",
   "version": "3.6.1"
  }
 },
 "nbformat": 4,
 "nbformat_minor": 2
}
